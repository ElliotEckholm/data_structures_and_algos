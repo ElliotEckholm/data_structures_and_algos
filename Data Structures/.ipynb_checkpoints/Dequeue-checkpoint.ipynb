{
 "cells": [
  {
   "cell_type": "markdown",
   "metadata": {},
   "source": [
    "# Creating Dequeue "
   ]
  },
  {
   "cell_type": "code",
   "execution_count": 12,
   "metadata": {},
   "outputs": [],
   "source": [
    "class Dequeue:\n",
    "\n",
    "    def __init__(self):\n",
    "        self.dequeue = list()\n",
    "        \n",
    "        \n",
    "\n",
    "    def pushLeft(self,value):\n",
    "        '''Push element to bottom of Dequeue'''\n",
    "        if value not in self.dequeue:\n",
    "            self.dequeue.insert(0,value)\n",
    "            return \n",
    "        return \n",
    "    \n",
    "    def push(self, value):\n",
    "        '''Push element to the top of Dequeue'''\n",
    "        if value not in self.dequeue:\n",
    "            self.dequeue.append(value)\n",
    "            return \n",
    "        else:\n",
    "            print(\"Element already on top\")\n",
    "            return\n",
    "        \n",
    "        \n",
    "    \n",
    "    def popLeft(self):\n",
    "        '''Remove element at bottom of Dequeue'''\n",
    "        if len(self.dequeue)>0:\n",
    "            return self.dequeue.pop(0)\n",
    "        return (\"No elements in Dequeue\")\n",
    "    \n",
    "    def pop(self):\n",
    "        '''Remove element at top of Dequeue'''\n",
    "        if len(self.dequeue) <= 0:\n",
    "            return (\"No element in the Stack\")\n",
    "        else:\n",
    "            return self.dequeue.pop()\n",
    "        \n",
    "        \n",
    "   \n",
    "    def peek(self): \n",
    "        '''Return top element of the stack'''\n",
    "        return self.dequeue[-1]\n",
    "    \n",
    "    def printQueue(self):\n",
    "        '''Print on values of Dequeue'''\n",
    "        for value in self.dequeue:\n",
    "            print(value)\n",
    "\n",
    "    def size(self):\n",
    "        '''Return size of Dequeue'''\n",
    "        return len(self.dequeue)"
   ]
  },
  {
   "cell_type": "code",
   "execution_count": 19,
   "metadata": {},
   "outputs": [
    {
     "name": "stdout",
     "output_type": "stream",
     "text": [
      "sun\n",
      "mon\n",
      "tues\n",
      "\n"
     ]
    }
   ],
   "source": [
    "test_dequeue = Dequeue()\n",
    "\n",
    "test_dequeue.push(\"mon\")\n",
    "test_dequeue.push(\"tues\")\n",
    "test_dequeue.pushLeft(\"sun\")\n",
    "\n",
    "test_dequeue.printQueue()\n",
    "print()\n",
    "\n",
    "test_dequeue.pop()\n",
    "test_dequeue.popLeft()\n",
    "test_dequeue.pop()\n",
    "\n",
    "test_dequeue.printQueue()"
   ]
  },
  {
   "cell_type": "code",
   "execution_count": null,
   "metadata": {},
   "outputs": [],
   "source": []
  }
 ],
 "metadata": {
  "kernelspec": {
   "display_name": "Python 3",
   "language": "python",
   "name": "python3"
  },
  "language_info": {
   "codemirror_mode": {
    "name": "ipython",
    "version": 3
   },
   "file_extension": ".py",
   "mimetype": "text/x-python",
   "name": "python",
   "nbconvert_exporter": "python",
   "pygments_lexer": "ipython3",
   "version": "3.7.4"
  }
 },
 "nbformat": 4,
 "nbformat_minor": 2
}
