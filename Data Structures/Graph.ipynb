{
 "cells": [
  {
   "cell_type": "markdown",
   "metadata": {},
   "source": [
    "# Creating a Graph"
   ]
  },
  {
   "cell_type": "code",
   "execution_count": 38,
   "metadata": {},
   "outputs": [],
   "source": [
    "class graph:\n",
    "    def __init__(self,graph_dict=None):\n",
    "        if graph_dict is None:\n",
    "            graph_dict = {}\n",
    "        self.graph_dict = graph_dict\n",
    "        \n",
    "    def addVertex(self, vertex):\n",
    "        '''Add vertex to graph'''\n",
    "        if vertex not in self.graph_dict:\n",
    "            self.graph_dict[vertex] = []\n",
    "            \n",
    "    def AddEdge(self, edge):\n",
    "        '''Add edge to graph'''\n",
    "        edge = set(edge)\n",
    "        (vertex_1, vertex_2) = tuple(edge)\n",
    "        if vertex_1 in self.graph_dict:\n",
    "            self.graph_dict[vertex_1].append(vertex_2)\n",
    "        else:\n",
    "            self.graph_dict[vertex_1] = [vertex_2]\n",
    "\n",
    "\n",
    "    def getVertices(self):\n",
    "        '''Return list of keys in graph'''\n",
    "        return list(self.graph_dict.keys())\n",
    "    \n",
    "    \n",
    "    def getEdges(self):\n",
    "        '''Return list of edges in graph'''\n",
    "        edges = []\n",
    "        for vertice in self.graph_dict:\n",
    "            for element in self.graph_dict[vertice]:   \n",
    "                edge = {vertice,element}\n",
    "                if edge not in edges:\n",
    "                    edges.append(edge)\n",
    "\n",
    "               \n",
    "        return edges\n",
    "    \n",
    "\n"
   ]
  },
  {
   "cell_type": "code",
   "execution_count": 43,
   "metadata": {},
   "outputs": [
    {
     "name": "stdout",
     "output_type": "stream",
     "text": [
      "['a', 'b', 'c', 'd', 'e']\n",
      "[{'a', 'b'}, {'c', 'a'}, {'b', 'd'}, {'c', 'd'}, {'e', 'd'}]\n",
      "\n",
      "['a', 'b', 'c', 'd', 'e', 'f']\n",
      "[{'a', 'b'}, {'c', 'a'}, {'b', 'd'}, {'c', 'd'}, {'e', 'd'}]\n",
      "\n",
      "['a', 'b', 'c', 'd', 'e', 'f', 'g']\n",
      "[{'a', 'b'}, {'c', 'a'}, {'b', 'd'}, {'c', 'd'}, {'e', 'd'}, {'g', 'a'}]\n"
     ]
    }
   ],
   "source": [
    "# Create the graph dictionary with graph components\n",
    "graph_elements = { \"a\" : [\"b\",\"c\"],\n",
    "                \"b\" : [\"a\", \"d\"],\n",
    "                \"c\" : [\"a\", \"d\"],\n",
    "                \"d\" : [\"e\"],\n",
    "                \"e\" : [\"d\"]\n",
    "                }\n",
    "\n",
    "test_graph = graph(graph_elements)\n",
    "print(test_graph.getVertices())\n",
    "print(test_graph.getEdges())\n",
    "print()\n",
    "\n",
    "test_graph.addVertex(\"f\")\n",
    "print(test_graph.getVertices())\n",
    "print(test_graph.getEdges())\n",
    "print()\n",
    "\n",
    "test_graph.AddEdge({'a','g'})\n",
    "print(test_graph.getVertices())\n",
    "print(test_graph.getEdges())\n"
   ]
  },
  {
   "cell_type": "code",
   "execution_count": null,
   "metadata": {},
   "outputs": [],
   "source": []
  }
 ],
 "metadata": {
  "kernelspec": {
   "display_name": "Python 3",
   "language": "python",
   "name": "python3"
  },
  "language_info": {
   "codemirror_mode": {
    "name": "ipython",
    "version": 3
   },
   "file_extension": ".py",
   "mimetype": "text/x-python",
   "name": "python",
   "nbconvert_exporter": "python",
   "pygments_lexer": "ipython3",
   "version": "3.7.4"
  }
 },
 "nbformat": 4,
 "nbformat_minor": 2
}
