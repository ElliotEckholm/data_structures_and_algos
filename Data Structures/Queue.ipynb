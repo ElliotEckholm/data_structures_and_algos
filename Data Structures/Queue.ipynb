{
 "cells": [
  {
   "cell_type": "markdown",
   "metadata": {},
   "source": [
    "# Creating Queue "
   ]
  },
  {
   "cell_type": "code",
   "execution_count": 10,
   "metadata": {},
   "outputs": [],
   "source": [
    "class Queue:\n",
    "\n",
    "    def __init__(self):\n",
    "        self.queue = list()\n",
    "\n",
    "    def push(self,value):\n",
    "        '''Add element to bottom of Queue'''\n",
    "        if value not in self.queue:\n",
    "            self.queue.insert(0,value)\n",
    "            return True\n",
    "        return False\n",
    "    \n",
    "    def pop(self):\n",
    "        if len(self.queue)>0:\n",
    "            return self.queue.pop()\n",
    "        return (\"No elements in Queue\")\n",
    "    \n",
    "    def printQueue(self):\n",
    "         for value in self.queue:\n",
    "            print(value)\n",
    "\n",
    "    def size(self):\n",
    "        return len(self.queue)"
   ]
  },
  {
   "cell_type": "code",
   "execution_count": 12,
   "metadata": {},
   "outputs": [
    {
     "name": "stdout",
     "output_type": "stream",
     "text": [
      "Wed\n",
      "Tues\n",
      "Mon\n",
      "\n",
      "Wed\n",
      "Tues\n"
     ]
    },
    {
     "data": {
      "text/plain": [
       "2"
      ]
     },
     "execution_count": 12,
     "metadata": {},
     "output_type": "execute_result"
    }
   ],
   "source": [
    "test_queue = Queue()\n",
    "\n",
    "test_queue.push(\"Mon\")\n",
    "test_queue.push(\"Tues\")\n",
    "test_queue.push(\"Wed\")\n",
    "\n",
    "test_queue.printQueue()\n",
    "test_queue.size()\n",
    "print()\n",
    "\n",
    "test_queue.pop()\n",
    "\n",
    "test_queue.printQueue()\n",
    "test_queue.size()"
   ]
  },
  {
   "cell_type": "code",
   "execution_count": null,
   "metadata": {},
   "outputs": [],
   "source": []
  }
 ],
 "metadata": {
  "kernelspec": {
   "display_name": "Python 3",
   "language": "python",
   "name": "python3"
  },
  "language_info": {
   "codemirror_mode": {
    "name": "ipython",
    "version": 3
   },
   "file_extension": ".py",
   "mimetype": "text/x-python",
   "name": "python",
   "nbconvert_exporter": "python",
   "pygments_lexer": "ipython3",
   "version": "3.7.4"
  }
 },
 "nbformat": 4,
 "nbformat_minor": 2
}
