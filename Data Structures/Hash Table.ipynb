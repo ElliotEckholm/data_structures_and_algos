{
 "cells": [
  {
   "cell_type": "markdown",
   "metadata": {},
   "source": [
    "# Creating Hash Table"
   ]
  },
  {
   "cell_type": "code",
   "execution_count": 238,
   "metadata": {},
   "outputs": [],
   "source": [
    "class HashTable(object):\n",
    "    \n",
    "    \n",
    "    def __init__(self, length=4):\n",
    "        \"\"\"Initiate array with empty values\"\"\"\n",
    "        self.array = [None] * length\n",
    "    \n",
    "    \n",
    "    def hash(self, key: str):\n",
    "        \"\"\"Get the index of our array for a specific string key\"\"\"\n",
    "        length = len(self.array)\n",
    "        return hash(key) % length\n",
    "    \n",
    "    \n",
    "    def add(self, key: str, value):\n",
    "        \"\"\"Add a value to our array by its key\"\"\"\n",
    "        index = self.hash(key)\n",
    "        print(\"Index: \", index)\n",
    "        \n",
    "        if self.is_full():\n",
    "            self.double()\n",
    "        \n",
    "        if self.array[index] is not None:\n",
    "            # This index already contain some values.\n",
    "            # This means that this add MIGHT be an update\n",
    "            # to a key that already exist. Instead of just storing\n",
    "            # the value we have to first look if the key exist.\n",
    "            for key_valye_pair in self.array[index]:\n",
    "                # If key is found, then update\n",
    "                # its current value to the new value.\n",
    "                if key_valye_pair[0] == key:\n",
    "                    key_valye_pair[1] = value\n",
    "                    break\n",
    "            else:\n",
    "                # If no breaks was hit in the for loop, it \n",
    "                # means that no existing key was found, \n",
    "                # so we can simply just add it to the end.\n",
    "                self.array[index].append([key, value])\n",
    "        else:\n",
    "            # This index is empty. We should initiate \n",
    "            # a list and append our key-value-pair to it.\n",
    "            self.array[index] = []\n",
    "            self.array[index].append([key, value])\n",
    "            \n",
    "            \n",
    "    def get(self, key):\n",
    "        \"\"\"Get a value by key\"\"\"\n",
    "        index = self.hash(key)\n",
    "        if self.array[index] is None:\n",
    "            raise KeyError()\n",
    "        else:\n",
    "            # Loop through all key-value-pairs\n",
    "            # and find if our key exist. If it does \n",
    "            # then return its value.\n",
    "            for kvp in self.array[index]:\n",
    "                if kvp[0] == key:\n",
    "                    return kvp[1]\n",
    "            \n",
    "            # If no return was done during loop,\n",
    "            # it means key didn't exist.\n",
    "            raise KeyError()\n",
    "            \n",
    "    def is_full(self):\n",
    "        \"\"\"Determines if the HashTable is too populated.\"\"\"\n",
    "        items = 0\n",
    "        # Count how many indexes in our array\n",
    "        # that is populated with values.\n",
    "        for item in self.array:\n",
    "            if item is not None:\n",
    "                items += 1\n",
    "        # Return bool value based on if the \n",
    "        # amount of populated items are more \n",
    "        # than half the length of the list.\n",
    "        return items > len(self.array)/2\n",
    "    \n",
    "    def double(self):\n",
    "        \"\"\"Double the list length and re-add values\"\"\"\n",
    "        print(\"Doubling HashTable Length\")\n",
    "        double_hashTable = HashTable(length=len(self.array)*2)\n",
    "        for i in range(len(self.array)):\n",
    "            if self.array[i] is None:\n",
    "                continue\n",
    "            \n",
    "            # Since our list is now a different length,\n",
    "            # we need to re-add all of our values to \n",
    "            # the new list for its hash to return correct\n",
    "            # index.\n",
    "            for kvp in self.array[i]:\n",
    "                double_hashTable.add(kvp[0], kvp[1])\n",
    "        \n",
    "        # Finally we just replace our current list with \n",
    "        # the new list of values that we created in ht2.\n",
    "        self.array = double_hashTable.array\n",
    "        \n",
    "        \n",
    "    def __setitem__(self, key, value):\n",
    "        self.add(key, value)\n",
    "    \n",
    "    def __getitem__(self, key):\n",
    "        return self.get(key)\n",
    "    \n",
    "    def __iter__(self):\n",
    "        \"\"\"Get key value pairs at each index\"\"\"\n",
    "        yield from self.array\n",
    "         \n",
    "    def __contains__(self, key):\n",
    "        index = self.hash(key)\n",
    "        if self.array[index] is None:\n",
    "            return False\n",
    "        else:\n",
    "            # Loop through all key-value-pairs\n",
    "            # and find if our key exist. If it does \n",
    "            # then return its value.\n",
    "            for kvp in self.array[index]:\n",
    "                if kvp[0] == key:\n",
    "                    return True\n",
    "            \n",
    "            # If no return was done during loop,\n",
    "            # it means key didn't exist.\n",
    "            return False\n",
    "        \n",
    "        "
   ]
  },
  {
   "cell_type": "code",
   "execution_count": 239,
   "metadata": {},
   "outputs": [],
   "source": [
    "hash_table = HashTable()"
   ]
  },
  {
   "cell_type": "code",
   "execution_count": 244,
   "metadata": {},
   "outputs": [
    {
     "name": "stdout",
     "output_type": "stream",
     "text": [
      "Index:  2\n"
     ]
    },
    {
     "data": {
      "text/plain": [
       "'bar'"
      ]
     },
     "execution_count": 244,
     "metadata": {},
     "output_type": "execute_result"
    }
   ],
   "source": [
    "\n",
    "# Using __setitem__\n",
    "hash_table[\"foo\"] = \"bar\"\n",
    "\n",
    "# using __getitem__\n",
    "val = hash_table[\"foo\"]\n",
    "val"
   ]
  },
  {
   "cell_type": "code",
   "execution_count": 245,
   "metadata": {},
   "outputs": [
    {
     "name": "stdout",
     "output_type": "stream",
     "text": [
      "Exist!\n"
     ]
    }
   ],
   "source": [
    "# using __contains__\n",
    "if \"foo\" in hash_table:\n",
    "    print(\"Exist!\")\n"
   ]
  },
  {
   "cell_type": "code",
   "execution_count": 246,
   "metadata": {},
   "outputs": [
    {
     "name": "stdout",
     "output_type": "stream",
     "text": [
      "None\n",
      "None\n",
      "[['foo', 'bar']]\n",
      "None\n"
     ]
    }
   ],
   "source": [
    "# using __iter__\n",
    "for kvp in hash_table:\n",
    "    print(kvp)"
   ]
  },
  {
   "cell_type": "code",
   "execution_count": null,
   "metadata": {},
   "outputs": [],
   "source": []
  },
  {
   "cell_type": "code",
   "execution_count": null,
   "metadata": {},
   "outputs": [],
   "source": []
  },
  {
   "cell_type": "code",
   "execution_count": null,
   "metadata": {},
   "outputs": [],
   "source": []
  }
 ],
 "metadata": {
  "kernelspec": {
   "display_name": "Python 3",
   "language": "python",
   "name": "python3"
  },
  "language_info": {
   "codemirror_mode": {
    "name": "ipython",
    "version": 3
   },
   "file_extension": ".py",
   "mimetype": "text/x-python",
   "name": "python",
   "nbconvert_exporter": "python",
   "pygments_lexer": "ipython3",
   "version": "3.7.4"
  }
 },
 "nbformat": 4,
 "nbformat_minor": 2
}
