{
 "cells": [
  {
   "cell_type": "markdown",
   "metadata": {},
   "source": [
    "# 1.1 Is Unique\n",
    "\n",
    "Implement an algorithm to determine if a string has all unique characters. What if you cannot use additional data structures?"
   ]
  },
  {
   "cell_type": "code",
   "execution_count": 56,
   "metadata": {},
   "outputs": [],
   "source": [
    "\n",
    "### BRUTE FORCE\n",
    "def is_unique(string : str) -> bool:\n",
    "    \n",
    "    count = {}\n",
    "    \n",
    "    for char in string:        \n",
    "        count[char] = 0\n",
    "    \n",
    "    for char in string:        \n",
    "        count[char] += 1\n",
    "        if count[char] > 1:\n",
    "            return False\n",
    "    return True\n",
    "\n",
    "### Optimized final answer\n",
    "def is_unique_final(string : str) -> bool:\n",
    "    \n",
    "    count = {}\n",
    "    \n",
    "    for char in string:        \n",
    "        count[char] = 0\n",
    "    \n",
    "    for char in string:        \n",
    "        count[char] += 1\n",
    "        if count[char] > 1:\n",
    "            return False\n",
    "   \n",
    "    return True\n",
    "\n",
    "\n",
    "\n",
    "### Correct Answer\n",
    "def is_unique_correct(string : str) -> bool:\n",
    "\n",
    "    if (len(string)>128):\n",
    "        return False\n",
    "    \n",
    "    char_list = [False] * 128\n",
    "    \n",
    "    for char in string:\n",
    "        unicode_val = ord(char)\n",
    "        if char_list[unicode_val]:\n",
    "            return False\n",
    "        char_list[unicode_val] = True\n",
    "   \n",
    "    return True\n",
    "    "
   ]
  },
  {
   "cell_type": "code",
   "execution_count": 198,
   "metadata": {},
   "outputs": [
    {
     "name": "stdout",
     "output_type": "stream",
     "text": [
      "True\n"
     ]
    }
   ],
   "source": [
    "test = \"Eliot\"\n",
    "print(is_unique_final(test))\n"
   ]
  },
  {
   "cell_type": "code",
   "execution_count": 199,
   "metadata": {},
   "outputs": [
    {
     "name": "stdout",
     "output_type": "stream",
     "text": [
      "True\n"
     ]
    }
   ],
   "source": [
    "test = \"Eliot\"\n",
    "print(is_unique_correct(test))"
   ]
  },
  {
   "cell_type": "markdown",
   "metadata": {},
   "source": [
    "## Final Answer O(n)\n",
    "\n",
    "### Ask inteview if input is ASCII or Unicode, ASCII only has 128 character alphabet, so can return false right away if length is over that \n",
    "\n",
    "### Use ord() to convert character to unicode value "
   ]
  },
  {
   "cell_type": "markdown",
   "metadata": {},
   "source": [
    "# 1.2 Check Permutation: Correct\n",
    "\n",
    "Given two strings, write a method to decide if one is a permutation of the other."
   ]
  },
  {
   "cell_type": "code",
   "execution_count": 192,
   "metadata": {},
   "outputs": [],
   "source": [
    "#Brute Force, I think best is O(n^2) because you have to check all character in both\n",
    "#could use a hash table as well to count each character\n",
    "\n",
    "def check_perm(string_1 : str, string_2 : str) -> bool:\n",
    "    \n",
    "    #have to have the same length \n",
    "    if (len(string_1) != len(string_2)):\n",
    "        return False\n",
    "    \n",
    "    #cannot be the same string because then not a permuation \n",
    "    if (string_1 == string_2):\n",
    "        return False\n",
    "    \n",
    "    #must contain all the same characters but in any order\n",
    "    for char in string_1:\n",
    "        if char not in string_2:\n",
    "            return False \n",
    "\n",
    "    return True\n",
    "\n",
    "\n",
    "#After reading Hint 2 try to shoot for O(n) time with hash table\n",
    "def check_perm_2(string_1 : str, string_2 : str) -> bool:\n",
    "    \n",
    "    #have to have the same length \n",
    "    if (len(string_1) != len(string_2)):\n",
    "        return False\n",
    "    \n",
    "    #cannot be the same string because then not a permuation \n",
    "    if (string_1 == string_2):\n",
    "        return False\n",
    "    \n",
    "    set_1 = set(string_1) \n",
    "    set_2 = set(string_2) \n",
    "    \n",
    "    for char in set_1:\n",
    "        if char not in set_2:\n",
    "            return False \n",
    "    \n",
    "#     #initialize a dictionary for string_1 with counts\n",
    "#     char_counter_1 = {}\n",
    "#     for char in string_1:\n",
    "#         char_counter_1[char] = 0\n",
    "#     for char in string_1:\n",
    "#         char_counter_1[char] += 1\n",
    "        \n",
    "#     for char in char_counter_1:\n",
    "#         if char not in char_counter_1:\n",
    "#             return False\n",
    "        \n",
    "\n",
    "    return True\n",
    "\n",
    "\n",
    "#After reading Hint 4 \n",
    "def check_perm_3(string_1 : str, string_2 : str) -> bool:\n",
    "    \n",
    "    #have to have the same length \n",
    "    if (len(string_1) != len(string_2)):\n",
    "        return False\n",
    "    \n",
    "    #cannot be the same string because then not a permuation \n",
    "    if (string_1 == string_2):\n",
    "        return False\n",
    "    \n",
    "    sorted_1 = []\n",
    "    sorted_2 = []\n",
    "    \n",
    "    for char in string_1:\n",
    "        sorted_1.append(ord(char))\n",
    "    \n",
    "    for char in string_2:\n",
    "        sorted_2.append(ord(char))\n",
    "\n",
    "    sorted_1 = sorted(sorted_1)\n",
    "    sorted_2 = sorted(sorted_2)\n",
    "    \n",
    "    if sorted_1 != sorted_2:\n",
    "        return False\n",
    "        \n",
    "\n",
    "    return True"
   ]
  },
  {
   "cell_type": "code",
   "execution_count": 193,
   "metadata": {},
   "outputs": [
    {
     "data": {
      "text/plain": [
       "False"
      ]
     },
     "execution_count": 193,
     "metadata": {},
     "output_type": "execute_result"
    }
   ],
   "source": [
    "check_perm(\"abcf\",\"dafb\")"
   ]
  },
  {
   "cell_type": "code",
   "execution_count": 194,
   "metadata": {},
   "outputs": [
    {
     "data": {
      "text/plain": [
       "True"
      ]
     },
     "execution_count": 194,
     "metadata": {},
     "output_type": "execute_result"
    }
   ],
   "source": [
    "check_perm_2(\"abcd\",\"dacb\")"
   ]
  },
  {
   "cell_type": "code",
   "execution_count": 195,
   "metadata": {},
   "outputs": [
    {
     "data": {
      "text/plain": [
       "False"
      ]
     },
     "execution_count": 195,
     "metadata": {},
     "output_type": "execute_result"
    }
   ],
   "source": [
    "check_perm_3(\"abcf\",\"dacb\")"
   ]
  },
  {
   "cell_type": "markdown",
   "metadata": {},
   "source": [
    "## Correct Answer"
   ]
  },
  {
   "cell_type": "code",
   "execution_count": 190,
   "metadata": {},
   "outputs": [],
   "source": [
    "from collections import Counter\n",
    "\n",
    "\n",
    "## Solution 1\n",
    "def check_perm_3(string_1 : str, string_2 : str) -> bool:\n",
    "    \n",
    "    #have to have the same length \n",
    "    if (len(string_1) != len(string_2)):\n",
    "        return False\n",
    "    \n",
    "    #cannot be the same string because then not a permuation \n",
    "    if (string_1 == string_2):\n",
    "        return False\n",
    "    \n",
    "    sorted_1 = []\n",
    "    sorted_2 = []\n",
    "    \n",
    "    for char in string_1:\n",
    "        sorted_1.append(ord(char))\n",
    "    \n",
    "    for char in string_2:\n",
    "        sorted_2.append(ord(char))\n",
    "\n",
    "    sorted_1 = sorted(sorted_1)\n",
    "    sorted_2 = sorted(sorted_2)\n",
    "    \n",
    "    if sorted_1 != sorted_2:\n",
    "        return False\n",
    "        \n",
    "\n",
    "    return True\n",
    "\n",
    "## Solution 2\n",
    "def check_permutation_correct(str1, str2):\n",
    "    if len(str1) != len(str2):\n",
    "        return False\n",
    "    \n",
    "    counter = Counter()\n",
    "    \n",
    "    for c in str1:\n",
    "        counter[c] += 1\n",
    "    for c in str2:\n",
    "        if counter[c] == 0:\n",
    "            return False\n",
    "    return True\n",
    "\n",
    "\n",
    "## without using counter\n",
    "\n",
    "def check_permutation_correct_2(str1, str2):\n",
    "    if len(str1) != len(str2):\n",
    "        return False\n",
    "    \n",
    "    counter = {}\n",
    "    \n",
    "    for c in str1:\n",
    "        counter[c] = 0\n",
    "    for c in str2:\n",
    "        counter[c] = 0\n",
    "    \n",
    "    for c in str1:\n",
    "        counter[c] += 1\n",
    "\n",
    "    \n",
    "    for c in str2:\n",
    "        if counter[c] == 0:\n",
    "            return False\n",
    "        \n",
    "    return True\n",
    "\n",
    "\n"
   ]
  },
  {
   "cell_type": "code",
   "execution_count": 191,
   "metadata": {},
   "outputs": [
    {
     "data": {
      "text/plain": [
       "True"
      ]
     },
     "execution_count": 191,
     "metadata": {},
     "output_type": "execute_result"
    }
   ],
   "source": [
    "check_permutation_correct_2(\"afcb\",\"facb\")"
   ]
  },
  {
   "cell_type": "markdown",
   "metadata": {},
   "source": [
    "## Final Answer O(n)\n",
    "\n",
    "### Ask inteview if you allowed to use a counter, if not then create a hashtable from scratch. If allowed to use counter then use it \n"
   ]
  },
  {
   "cell_type": "markdown",
   "metadata": {},
   "source": [
    "# 1.3 URLify: Correct\n",
    "\n",
    "Write a method to replace all spaces in a string with '%20: You may assume that the string has sufficient space at the end to hold the additional characters, and that you are given the \"true\" length of the string.\n"
   ]
  },
  {
   "cell_type": "code",
   "execution_count": 254,
   "metadata": {},
   "outputs": [],
   "source": [
    "#solution 1\n",
    "def urlify_1(string : str) -> str:\n",
    "    url = string.replace(\" \",\"%20\")\n",
    "    return url\n",
    "\n",
    "#solution 2 if you cannot use python's replace()\n",
    "def urlify_2(string:str, string_len:int) -> str:\n",
    "    \n",
    "    url = \"\"\n",
    "    string_list = list(string)\n",
    "    \n",
    "    for index in range(0,string_len):\n",
    "        if string_list[index] == \" \":\n",
    "            string_list[index] = \"%20\"\n",
    "        url += string_list[index]\n",
    "        \n",
    "    \n",
    "    return url"
   ]
  },
  {
   "cell_type": "code",
   "execution_count": 252,
   "metadata": {},
   "outputs": [
    {
     "data": {
      "text/plain": [
       "'Mr%20John%20Smith%20%20%20%20'"
      ]
     },
     "execution_count": 252,
     "metadata": {},
     "output_type": "execute_result"
    }
   ],
   "source": [
    "test = \"Mr John Smith    \"\n",
    "urlify_1(test)"
   ]
  },
  {
   "cell_type": "code",
   "execution_count": 255,
   "metadata": {},
   "outputs": [
    {
     "data": {
      "text/plain": [
       "'Mr%20John%20Smith'"
      ]
     },
     "execution_count": 255,
     "metadata": {},
     "output_type": "execute_result"
    }
   ],
   "source": [
    "test = \"Mr John Smith    \"\n",
    "urlify_2(test,13)"
   ]
  },
  {
   "cell_type": "markdown",
   "metadata": {},
   "source": [
    "## Notes\n",
    "- When using range(0,15) the final index will be 14\n",
    "- You cannot use string[index] in a string, you must first convert to a list"
   ]
  },
  {
   "cell_type": "markdown",
   "metadata": {},
   "source": [
    "## Correct answer"
   ]
  },
  {
   "cell_type": "code",
   "execution_count": 259,
   "metadata": {},
   "outputs": [],
   "source": [
    "#solution 2 if you cannot use python's replace()\n",
    "def urlify_2(string:str, string_len:int) -> str:\n",
    "    \n",
    "    url = \"\"\n",
    "    string_list = list(string)\n",
    "    \n",
    "    for index in range(0,string_len):\n",
    "        if string_list[index] == \" \":\n",
    "            string_list[index] = \"%20\"\n",
    "        url += string_list[index]\n",
    "        \n",
    "    \n",
    "    return url"
   ]
  },
  {
   "cell_type": "markdown",
   "metadata": {},
   "source": [
    "## Final Answer O(n)\n",
    "## Sometimes it is easier to modify a string starting from the end and working backwards since the last character is '/0'"
   ]
  },
  {
   "cell_type": "markdown",
   "metadata": {},
   "source": [
    "# 1.4 Palindrome Permutation: Correct\n",
    "Given a string, write a function to check if it is a permutation of a palin- drome. A palindrome is a word or phrase that is the same forwards and backwards. A permutation is a rearrangement of letters.The palindrome does not need to be limited to just dictionary words.\n"
   ]
  },
  {
   "cell_type": "code",
   "execution_count": 344,
   "metadata": {},
   "outputs": [],
   "source": [
    "# solution 1\n",
    "def pali_perm(string : str):\n",
    "\n",
    "    backwards_perm_array = []\n",
    "    \n",
    "    counter = {}\n",
    "    for char in string:\n",
    "        counter[char] = 0\n",
    "    for char in string:\n",
    "        counter[char] += 1\n",
    "    \n",
    "    count_odd_letters = 0\n",
    "    count_even_pairs_letters = 0\n",
    "    for char in string:\n",
    "        if counter[char] % 2 == 0:\n",
    "            count_even_pairs_letters += 1\n",
    "        else:\n",
    "             count_odd_letters += 1\n",
    "\n",
    "    \n",
    "    if len(string) % 2 == 0:\n",
    "        if count_odd_letters == 0 and count_even_pairs_letters % 2 == 0:\n",
    "            return True\n",
    "    if len(string) % 2 != 0:\n",
    "        if count_odd_letters % 2 == 1 and count_even_pairs_letters % 2 == 0:\n",
    "            return True\n",
    "        \n",
    "    return False\n",
    "\n",
    "    "
   ]
  },
  {
   "cell_type": "code",
   "execution_count": 339,
   "metadata": {},
   "outputs": [
    {
     "name": "stdout",
     "output_type": "stream",
     "text": [
      "Length:  7\n",
      "Odd:  5\n",
      "Even:  2\n"
     ]
    },
    {
     "data": {
      "text/plain": [
       "True"
      ]
     },
     "execution_count": 339,
     "metadata": {},
     "output_type": "execute_result"
    }
   ],
   "source": [
    "test = \"Tac Coa\"\n",
    "pali_perm(test)"
   ]
  },
  {
   "cell_type": "code",
   "execution_count": 343,
   "metadata": {},
   "outputs": [
    {
     "name": "stdout",
     "output_type": "stream",
     "text": [
      "Length:  5\n",
      "Odd:  1\n",
      "Even:  4\n",
      "True\n",
      "\n",
      "Length:  7\n",
      "Odd:  1\n",
      "Even:  6\n",
      "True\n",
      "\n",
      "Length:  8\n",
      "Odd:  0\n",
      "Even:  8\n",
      "True\n",
      "\n",
      "Length:  11\n",
      "Odd:  5\n",
      "Even:  6\n",
      "True\n",
      "\n"
     ]
    }
   ],
   "source": [
    "test_1 = \"badab\"\n",
    "print(pali_perm(test_1))\n",
    "print()\n",
    "test_2 = \"bacocab\"\n",
    "print(pali_perm(test_2))\n",
    "print()\n",
    "test_3 = \"ebaooabe\"\n",
    "print(pali_perm(test_3))\n",
    "print()\n",
    "test_3 = \"ebaoeeeoabe\"\n",
    "print(pali_perm(test_3))\n",
    "print()"
   ]
  },
  {
   "cell_type": "code",
   "execution_count": null,
   "metadata": {},
   "outputs": [],
   "source": []
  },
  {
   "cell_type": "code",
   "execution_count": null,
   "metadata": {},
   "outputs": [],
   "source": []
  }
 ],
 "metadata": {
  "kernelspec": {
   "display_name": "Python 3",
   "language": "python",
   "name": "python3"
  },
  "language_info": {
   "codemirror_mode": {
    "name": "ipython",
    "version": 3
   },
   "file_extension": ".py",
   "mimetype": "text/x-python",
   "name": "python",
   "nbconvert_exporter": "python",
   "pygments_lexer": "ipython3",
   "version": "3.7.4"
  }
 },
 "nbformat": 4,
 "nbformat_minor": 2
}
