{
 "cells": [
  {
   "cell_type": "markdown",
   "metadata": {},
   "source": [
    "# Creating Doubly Linked List Class to Work With"
   ]
  },
  {
   "cell_type": "code",
   "execution_count": 419,
   "metadata": {},
   "outputs": [],
   "source": [
    "class Node:\n",
    "    def __init__(self, value=None):\n",
    "        self.value = value\n",
    "        self.next = None\n",
    "        self.prev = None\n",
    "\n",
    "        \n",
    "class DoublyLinkedList:\n",
    "    \n",
    "    def __init__(self):\n",
    "        '''Create Head Node'''\n",
    "        self.head = None\n",
    "        \n",
    "    def push(self, value):\n",
    "        '''Push Node to Linked List'''\n",
    "        new_node = Node(value)\n",
    "        new_node.next = self.head\n",
    "        \n",
    "        if self.head is not None:\n",
    "            self.head.prev = new_node\n",
    "        self.head = new_node\n",
    "        \n",
    "    def insert(self, prev_value, value):\n",
    "        '''Insert a Node after Node in List'''\n",
    "        new_node = Node(value)\n",
    "        \n",
    "        current_node = self.head\n",
    "       \n",
    "        while current_node is not None:\n",
    "            if current_node.value == prev_value:                \n",
    "                prev_node = current_node\n",
    "                new_node.prev = prev_node\n",
    "                new_node.next = prev_node.next\n",
    "                prev_node.next = new_node\n",
    "        \n",
    "                if new_node.next is not None:\n",
    "                    new_node.next.prev = new_node\n",
    "                print()\n",
    "                return \n",
    "            \n",
    "            current_node = current_node.next\n",
    "        \n",
    "        print(\"Previous Node not Found\")\n",
    "        return \n",
    "    \n",
    "    def append(self, value):\n",
    "        '''Adding a Node to end of List'''\n",
    "        new_node = Node(value)\n",
    "        new_node.next = None\n",
    "        \n",
    "        if self.head is None:\n",
    "            NewNode.prev = None\n",
    "            self.head = NewNode\n",
    "            return\n",
    "        \n",
    "        last_node = self.head\n",
    "        while last_node.next is not None:\n",
    "            last_node = last_node.next\n",
    "        last_node.next = new_node\n",
    "        new_node.prev = last_node\n",
    "        \n",
    "        return \n",
    "        \n",
    "\n",
    "    def pop(self):\n",
    "        '''Remove a Node at end of List'''\n",
    "        if self.head is None:\n",
    "            return\n",
    "        \n",
    "        last_node = self.head\n",
    "\n",
    "        while last_node.next is not None:\n",
    "            last_node = last_node.next\n",
    "\n",
    "        second_to_last_node = last_node.prev\n",
    "        second_to_last_node.next = None\n",
    "        last_node = None     \n",
    "        \n",
    "        return\n",
    "        \n",
    "    def remove(self,value):\n",
    "        '''Remove a Node'''\n",
    "        \n",
    "        if self.head.value == value:\n",
    "            self.head = self.head.next\n",
    "            return\n",
    "        \n",
    "        current_node = self.head\n",
    "        while current_node:\n",
    "            if current_node.value == value:\n",
    "                current_node.prev.next = current_node.next\n",
    "                current_node = None\n",
    "                return \n",
    "            current_node = current_node.next\n",
    "                \n",
    "        print(\"Node not Found\")\n",
    "        return\n",
    "\n",
    "    \n",
    "        \n",
    "    def listPrint(self):\n",
    "        '''Print entire linked list'''\n",
    "        print_value = self.head\n",
    "       \n",
    "        while print_value is not None:\n",
    "            print (print_value.value),\n",
    "            print_value = print_value.next\n",
    "        print()\n",
    "\n",
    "\n"
   ]
  },
  {
   "cell_type": "markdown",
   "metadata": {},
   "source": [
    "# 2.1 Remove Dups: Correct\n",
    "- Write code to remove duplicates from an unsorted linked list. \n",
    "- FOLLOW UP\n",
    "- How would you solve this problem if a temporary buffer is not allowed?"
   ]
  },
  {
   "cell_type": "code",
   "execution_count": 159,
   "metadata": {},
   "outputs": [],
   "source": [
    "def remove_dups(doubly_list):\n",
    "    \n",
    "    value_list = []\n",
    "    \n",
    "    \n",
    "    #start at head of linked list\n",
    "    current_node =  doubly_list.head\n",
    "    #head value to value list\n",
    "    value_list.append(current_node.value)\n",
    "    current_node = current_node.next\n",
    "   \n",
    "    while current_node:\n",
    "        #If value already in value list then remove node\n",
    "        if current_node.value in value_list:\n",
    "        \n",
    "            if current_node.value == doubly_list.head.value:\n",
    "#                 print(\"Removing Head: \",current_node.value)\n",
    "                doubly_list.head = doubly_list.head.next\n",
    "            else:\n",
    "#                 print(\"Removing: \",current_node.value)\n",
    "                current_node.prev.next = current_node.next\n",
    "        \n",
    "        value_list.append(current_node.value) \n",
    "        current_node = current_node.next\n",
    "        \n",
    "        \n",
    "    \n",
    "    return doubly_list\n",
    "    \n",
    "\n",
    "    \n",
    "    "
   ]
  },
  {
   "cell_type": "code",
   "execution_count": 160,
   "metadata": {},
   "outputs": [
    {
     "name": "stdout",
     "output_type": "stream",
     "text": [
      "5\n",
      "3\n",
      "2\n",
      "1\n",
      "\n"
     ]
    }
   ],
   "source": [
    "test_doubly_list = DoublyLinkedList()\n",
    "\n",
    "\n",
    "test_doubly_list.push(1)\n",
    "test_doubly_list.push(1)\n",
    "test_doubly_list.push(2)\n",
    "test_doubly_list.push(3)\n",
    "test_doubly_list.push(3)\n",
    "test_doubly_list.push(5)\n",
    "# test_doubly_list.listPrint()\n",
    "\n",
    "remove_dups(test_doubly_list)\n",
    "test_doubly_list.listPrint()\n"
   ]
  },
  {
   "cell_type": "markdown",
   "metadata": {},
   "source": [
    "## Note: \n",
    "Always ask if it is a singly or doubly linked list"
   ]
  },
  {
   "cell_type": "markdown",
   "metadata": {},
   "source": [
    "# 2.2 Return Kth to Last: Correct\n",
    "Implement an algorithm to find the kth to last element of a singly linked list."
   ]
  },
  {
   "cell_type": "code",
   "execution_count": 175,
   "metadata": {},
   "outputs": [],
   "source": [
    "class Node:\n",
    "    def __init__(self, value=None):\n",
    "        self.value = value\n",
    "        self.next = None\n",
    "\n",
    "        \n",
    "class SinglyLinkedList:\n",
    "    \n",
    "    def __init__(self):\n",
    "        '''Create Head Node'''\n",
    "        self.head = None\n",
    "        \n",
    "    def listPrint(self):\n",
    "        '''Print entire linked list'''\n",
    "        print_value = self.head\n",
    "       \n",
    "        while print_value is not None:\n",
    "            print (print_value.value)\n",
    "            print_value = print_value.next\n",
    "        print()\n",
    "            \n",
    "    def insertNewHead(self,value):\n",
    "        '''Inster a New Head Node'''\n",
    "        new_head = Node(value)\n",
    "        new_head.next = self.head\n",
    "        self.head = new_head\n",
    "        \n",
    "    def insertNewEnd(self,value):\n",
    "        '''Inster a New Node at the end of the Linked List'''\n",
    "        new_node = Node(value)\n",
    "        if self.head_value is None:\n",
    "            self.head = new_node\n",
    "            return\n",
    "        \n",
    "        last_node = self.head\n",
    "        while last_node.next:\n",
    "            last_node = last_node.next\n",
    "        last_node.next = new_node\n",
    "    \n",
    "    def insertNode(self,middle_value,value):\n",
    "        '''Inster a New Node after a middle node'''\n",
    "        new_node = Node(value)\n",
    "        \n",
    "        #if no head value then create it with middle value and link to value\n",
    "        if self.head is None:\n",
    "            middle_node = Node(middle_value)\n",
    "            self.head = middle_node\n",
    "            self.head.next = new_node \n",
    "            return\n",
    "        \n",
    "        #search through list and find middle value, then link to value \n",
    "        next_node = self.head\n",
    "        while next_node:\n",
    "            if next_node.value == middle_value:\n",
    "                middle_node = next_node\n",
    "                new_node.next = middle_node.next\n",
    "                middle_node.next = new_node\n",
    "                return \n",
    "            else:\n",
    "                next_node = next_node.next\n",
    "                \n",
    "        print(\"Middle Node not Found\")\n",
    "        return\n",
    "    \n",
    "        \n",
    "    def removeNode(self,value):\n",
    "        '''Remove a Node'''\n",
    "        \n",
    "        #If value is head then remove the head node and replace with the next node\n",
    "        if self.head.value == value:\n",
    "            self.head = self.head.next\n",
    "            return\n",
    "        \n",
    "        #search through list and find value, then remove node and replace next node with previous node\n",
    "        next_node = self.head\n",
    "        prev_node = self.head\n",
    "        while next_node:\n",
    "\n",
    "            if next_node.value == value:\n",
    "                prev_node.next = next_node.next\n",
    "                next_node = None\n",
    "                return \n",
    "            else:\n",
    "                prev_node = next_node\n",
    "                next_node = next_node.next\n",
    "                \n",
    "        print(\"Node not Found\")\n",
    "        return\n",
    "       \n",
    "\n",
    "\n"
   ]
  },
  {
   "cell_type": "code",
   "execution_count": 214,
   "metadata": {},
   "outputs": [],
   "source": [
    "def find_kth(k,linkedList):\n",
    "    length = 0\n",
    "    iteration = 0\n",
    "    \n",
    "    current_node = linkedList.head\n",
    "    \n",
    "    while current_node:\n",
    "        length += 1\n",
    "        current_node = current_node.next\n",
    "\n",
    "    \n",
    "    current_node = linkedList.head\n",
    "    while current_node:\n",
    "        if iteration == length - k:\n",
    "            return current_node.value\n",
    "        iteration += 1\n",
    "        current_node = current_node.next\n",
    "    \n"
   ]
  },
  {
   "cell_type": "code",
   "execution_count": 220,
   "metadata": {},
   "outputs": [
    {
     "name": "stdout",
     "output_type": "stream",
     "text": [
      "3\n",
      "4\n",
      "5\n",
      "\n",
      "\n"
     ]
    },
    {
     "data": {
      "text/plain": [
       "4"
      ]
     },
     "execution_count": 220,
     "metadata": {},
     "output_type": "execute_result"
    }
   ],
   "source": [
    "test_linked_list = SinglyLinkedList()\n",
    "\n",
    "# linkedList.insertNewHead(\"Sun\")\n",
    "\n",
    "test_linked_list.insertNode(3,4)\n",
    "test_linked_list.insertNode(4,5)\n",
    "# test_linked_list.insertNode(5,6)\n",
    "# test_linked_list.insertNode(6,7)\n",
    "test_linked_list.listPrint()\n",
    "print()\n",
    "find_kth(2,test_linked_list)"
   ]
  },
  {
   "cell_type": "markdown",
   "metadata": {},
   "source": [
    "# 2.3 Delete Middle Node: Correct\n",
    "Implement an algorithm to delete a node in the middle (i.e., any node but the first and last node, not necessarily the exact middle) of a singly linked list, given only access to that node.\n",
    "EXAMPLE\n",
    "- Input: the node c from the linked list a - >b- >c - >d - >e- >f\n",
    "- Result: nothing is returned, but the new linked list looks like a - >b- >d - >e- >f"
   ]
  },
  {
   "cell_type": "code",
   "execution_count": 224,
   "metadata": {},
   "outputs": [],
   "source": [
    "def delete_node(linkedList,value):\n",
    "    #start on node after head\n",
    "    current_node = linkedList.head.next\n",
    "    \n",
    "    while current_node:\n",
    "        #remove node if equals value\n",
    "        if current_node.value == value:\n",
    "            current_node.prev.next = current_node.next\n",
    "            current_node = None\n",
    "            return\n",
    "        current_node = current_node.next"
   ]
  },
  {
   "cell_type": "code",
   "execution_count": 232,
   "metadata": {},
   "outputs": [
    {
     "name": "stdout",
     "output_type": "stream",
     "text": [
      "5\n",
      "3\n",
      "2\n",
      "1\n",
      "\n"
     ]
    }
   ],
   "source": [
    "test_doubly_list = DoublyLinkedList()\n",
    "\n",
    "\n",
    "test_doubly_list.push(1)\n",
    "test_doubly_list.push(2)\n",
    "test_doubly_list.push(3)\n",
    "test_doubly_list.push(4)\n",
    "test_doubly_list.push(5)\n",
    "\n",
    "delete_node(test_doubly_list,4)\n",
    "\n",
    "test_doubly_list.listPrint()"
   ]
  },
  {
   "cell_type": "markdown",
   "metadata": {},
   "source": [
    "# 2.4 Partition: Needed Help\n",
    "Write code to partition a linked list around a value x, such that all nodes less than x come before all nodes greater than or equal to x. lf x is contained within the list, the values of x only need to be after the elements less than x (see below).The partition element x can appear anywhere in the \"right partition\"; it does not need to appear between the left and right partitions.\n",
    "\n",
    "EXAMPLE\n",
    "- Input: 3 -> 5 -> 8 -> 5 ->10 -> 2 -> 1[partition=5) \n",
    "- Output: 3 -> 1 -> 2 -> 10 -> 5 -> 5 -> 8"
   ]
  },
  {
   "cell_type": "code",
   "execution_count": 344,
   "metadata": {},
   "outputs": [],
   "source": [
    "def partition(linkedList, partition_num):\n",
    "    \n",
    "    \n",
    "    before_list = DoublyLinkedList()\n",
    "    before_end = None\n",
    "    after_list = DoublyLinkedList()\n",
    "    after_end = None \n",
    "\n",
    "    \n",
    "    if linkedList.head.value == partition_num:\n",
    "        return linkedList\n",
    "    \n",
    "    current_node = linkedList.head\n",
    "    \n",
    "    while current_node:\n",
    "        if current_node.value < partition_num:\n",
    "            if before_list.head is None:\n",
    "                before_list.head = Node(current_node.value)\n",
    "                before_end = before_list.head\n",
    "            else:\n",
    "                before_end.next = Node(current_node.value)\n",
    "                before_end = before_end.next\n",
    "#             print(\"Before end:\",before_end.value)\n",
    "        \n",
    "        else:\n",
    "            if after_list.head is None:\n",
    "                after_list.head = Node(current_node.value)\n",
    "                after_end = after_list.head\n",
    "            else:\n",
    "                after_end.next = Node(current_node.value)\n",
    "                after_end = after_end.next\n",
    "#             print(\"After end:\",after_end.value)\n",
    "        \n",
    "        current_node = current_node.next\n",
    "        \n",
    " \n",
    "    \n",
    "    before_end.next = after_list.head\n",
    "    before_list.listPrint()\n",
    "        "
   ]
  },
  {
   "cell_type": "code",
   "execution_count": 347,
   "metadata": {},
   "outputs": [
    {
     "name": "stdout",
     "output_type": "stream",
     "text": [
      "1\n",
      "2\n",
      "3\n",
      "10\n",
      "5\n",
      "8\n",
      "5\n",
      "\n"
     ]
    }
   ],
   "source": [
    "test_doubly_list = DoublyLinkedList()\n",
    "\n",
    "\n",
    "test_doubly_list.push(3)\n",
    "test_doubly_list.push(5)\n",
    "test_doubly_list.push(8)\n",
    "test_doubly_list.push(5)\n",
    "test_doubly_list.push(10)\n",
    "test_doubly_list.push(2)\n",
    "test_doubly_list.push(1)\n",
    "\n",
    "partition(test_doubly_list,5)\n"
   ]
  },
  {
   "cell_type": "markdown",
   "metadata": {},
   "source": [
    "# Note:\n",
    "I did not fully understand the example to this problem and it confused me, but I think through some trial and error I did end up at the right solution\n",
    "- Make sure to clarify an consufion about examples given and ask interview if another example case you come up with is correct\n"
   ]
  },
  {
   "cell_type": "markdown",
   "metadata": {},
   "source": [
    "# 2.5: Sum Lists: \n",
    "You have two numbers represented by a linked list, where each node contains a single digit. The digits are stored in reverse order, such that the 1's digit is at the head of the list. Write a function that adds the two numbers and returns the sum as a linked list.\n",
    "#### EXAMPLE\n",
    "- Input: (7-> 1 -> 6) + (5 -> 9 -> 2). That is,617 + 295. \n",
    "- Output: 2 -> 1 -> 9. That is, 912.\n",
    "#### FOLLOW UP\n",
    "- Suppose the digits are stored in forward order. Repeat the above problem.\n",
    "#### EXAMPLE\n",
    "- Input: (6 -> 1 -> 7) + (2 -> 9 -> 5).Thatis,617 + 295. \n",
    "- Output: 9 -> 1 -> 2.That is, 912."
   ]
  },
  {
   "cell_type": "markdown",
   "metadata": {},
   "source": [
    "## Question: are the lists always the same length?\n",
    "Assuming yes"
   ]
  },
  {
   "cell_type": "code",
   "execution_count": 389,
   "metadata": {},
   "outputs": [],
   "source": [
    "def sum_lists(linkedList_1,linkedList_2):\n",
    "    num_1 = 0\n",
    "    num_2 = 0\n",
    "    sum_arr = []\n",
    "    sum_list = DoublyLinkedList()\n",
    "    \n",
    "    #Find sum of list 1 and list 2\n",
    "    current_node_1 = linkedList_1.head\n",
    "    current_node_2 = linkedList_2.head\n",
    "    index = 0\n",
    "    while current_node_1 and current_node_2:\n",
    "        num_1 += current_node_1.value * (10**index)\n",
    "        num_2 += current_node_2.value * (10**index)\n",
    "        current_node_1 = current_node_1.next\n",
    "        current_node_2 = current_node_2.next\n",
    "        index += 1\n",
    "        \n",
    "    sum = num_1 + num_2\n",
    "    \n",
    "    #place each int in new list\n",
    "    [sum_list.push(int(i)) for i in str(sum)]\n",
    "    \n",
    "    sum_list.listPrint()\n",
    "    "
   ]
  },
  {
   "cell_type": "code",
   "execution_count": 390,
   "metadata": {},
   "outputs": [
    {
     "name": "stdout",
     "output_type": "stream",
     "text": [
      "2\n",
      "1\n",
      "9\n",
      "\n"
     ]
    }
   ],
   "source": [
    "list_1 = SinglyLinkedList()\n",
    "\n",
    "list_1.insertNode(7,1)\n",
    "list_1.insertNode(1,6)\n",
    "\n",
    "\n",
    "\n",
    "list_2 = SinglyLinkedList()\n",
    "\n",
    "list_2.insertNode(5,9)\n",
    "list_2.insertNode(9,2)\n",
    "\n",
    "\n",
    "sum_lists(list_1,list_2)"
   ]
  },
  {
   "cell_type": "markdown",
   "metadata": {},
   "source": [
    "### Follow Up"
   ]
  },
  {
   "cell_type": "code",
   "execution_count": 424,
   "metadata": {},
   "outputs": [],
   "source": [
    "def reverse_sum_lists(linkedList_1,linkedList_2):\n",
    "    num_1 = 0\n",
    "    num_2 = 0\n",
    "    sum_arr = []\n",
    "    sum_list = DoublyLinkedList()\n",
    "    \n",
    "    #current nodes to last nodes first\n",
    "    current_node_1 = linkedList_1.head\n",
    "    current_node_2 = linkedList_2.head\n",
    "    while current_node_1.next and current_node_2.next:\n",
    "        current_node_1 = current_node_1.next\n",
    "        current_node_2 = current_node_2.next\n",
    "    \n",
    "    \n",
    "    #Find sum of list 1 and list 2\n",
    "    index = 0\n",
    "    while current_node_1 and current_node_2:\n",
    "        num_1 += current_node_1.value * (10**index)\n",
    "        num_2 += current_node_2.value * (10**index)\n",
    "        current_node_1 = current_node_1.prev\n",
    "        current_node_2 = current_node_2.prev\n",
    "        index += 1\n",
    "        \n",
    "    sum = num_1 + num_2\n",
    "    \n",
    "    #place each int in new list\n",
    "    [sum_list.push(int(i)) for i in str(sum)]\n",
    "    \n",
    "    sum_list.listPrint()\n",
    "    "
   ]
  },
  {
   "cell_type": "code",
   "execution_count": 425,
   "metadata": {},
   "outputs": [
    {
     "name": "stdout",
     "output_type": "stream",
     "text": [
      "2\n",
      "1\n",
      "9\n",
      "\n"
     ]
    }
   ],
   "source": [
    "list_1 = DoublyLinkedList()\n",
    "\n",
    "list_1.push(7)\n",
    "list_1.push(1)\n",
    "list_1.push(6)\n",
    "\n",
    "\n",
    "\n",
    "list_2 = DoublyLinkedList()\n",
    "\n",
    "list_2.push(5)\n",
    "list_2.push(9)\n",
    "list_2.push(2)\n",
    "\n",
    "\n",
    "reverse_sum_lists(list_1,list_2)"
   ]
  },
  {
   "cell_type": "code",
   "execution_count": null,
   "metadata": {},
   "outputs": [],
   "source": []
  }
 ],
 "metadata": {
  "kernelspec": {
   "display_name": "Python 3",
   "language": "python",
   "name": "python3"
  },
  "language_info": {
   "codemirror_mode": {
    "name": "ipython",
    "version": 3
   },
   "file_extension": ".py",
   "mimetype": "text/x-python",
   "name": "python",
   "nbconvert_exporter": "python",
   "pygments_lexer": "ipython3",
   "version": "3.7.4"
  }
 },
 "nbformat": 4,
 "nbformat_minor": 2
}
