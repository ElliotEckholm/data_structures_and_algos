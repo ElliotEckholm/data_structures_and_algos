{
 "cells": [
  {
   "cell_type": "markdown",
   "metadata": {},
   "source": [
    "# 4.1 Route Between Nodes: Correct\n",
    "Given a directed graph, design an algorithm to find out whether there is a route between two nodes.\n",
    "\n",
    "#### Answer 1:\n",
    "- Use breadth-first search, start at one of the two nodes, if both nodes are not visited by end of search then return False"
   ]
  },
  {
   "cell_type": "code",
   "execution_count": 164,
   "metadata": {},
   "outputs": [],
   "source": [
    "class Queue:\n",
    "    def __init__(self):\n",
    "        self.queue = []\n",
    "        \n",
    "    def enqueue(self,node):\n",
    "        self.queue.append(node)\n",
    "    \n",
    "    def dequeue(self):\n",
    "        return self.queue.pop(0)\n",
    "        \n",
    "    def isEmpty(self):\n",
    "        if len(self.queue) == 0:\n",
    "            return True\n",
    "        else:\n",
    "            return False\n",
    "        "
   ]
  },
  {
   "cell_type": "code",
   "execution_count": 249,
   "metadata": {},
   "outputs": [],
   "source": [
    "class Node:\n",
    "    def __init__(self,value : int, neighbors : list):\n",
    "        self.value = value\n",
    "        self.visited = False\n",
    "        self.neighbors = []\n",
    "        for neighbor in neighbors:\n",
    "            node_neighbor = Node(neighbor,[])\n",
    "            self.neighbors.append(node_neighbor)\n",
    "        \n",
    "\n",
    "class Graph:\n",
    "    def __init__(self):\n",
    "        self.graph = {}\n",
    "    \n",
    "    def add(self,value,neighbors):\n",
    "        \n",
    "        if value not in self.graph:\n",
    "            new_node = Node(value,neighbors)\n",
    "            self.graph[value] = new_node\n",
    "            for neighbor in new_node.neighbors:\n",
    "                self.graph[neighbor.value] = neighbor\n",
    "        else:\n",
    "            print(\"Vertex Exist!\")\n",
    "            for neighbor in neighbors:\n",
    "                if neighbor not in self.graph:\n",
    "                    new_node = Node(neighbor,[])\n",
    "                    self.graph[value].neighbors.append(new_node)\n",
    "                else:\n",
    "                    print(\"Neighbor Exist!\")\n",
    "                    self.graph[value].neighbors.append(self.graph[neighbor])\n",
    "      \n",
    "            \n",
    "    def breadth_first_search(self,start,end):\n",
    "        queue = Queue()\n",
    "        \n",
    "        visted = []\n",
    "        \n",
    "        start_node = self.graph[start]\n",
    "        start_node.visited = True\n",
    "        queue.enqueue(start_node)\n",
    "\n",
    "        while (queue.isEmpty() == False):\n",
    "            current_node = queue.dequeue()\n",
    "            visted.append(current_node.value)\n",
    "            self.print_graph()\n",
    "            for neighbor in current_node.neighbors: \n",
    "                if neighbor.visited == False:\n",
    "                    if neighbor.value == end:\n",
    "                        print(\"Path avaible between: \",start, \" and \", end)\n",
    "                        return True\n",
    "                    else:\n",
    "                        neighbor.visited = True\n",
    "                        queue.enqueue(neighbor)\n",
    "        \n",
    "        print(\"Path does not exist between: \",start, \" and \", end)\n",
    "        return False\n",
    "       \n",
    "    def print_graph(self):\n",
    "        for node in self.graph:\n",
    "            print(self.graph[node].value ,\" : \", self.graph[node].visited)\n",
    "            for neighbor in self.graph[node].neighbors:\n",
    "                print(\"----->\", neighbor.value, \" : \",neighbor.visited)\n",
    "        print()\n",
    "        "
   ]
  },
  {
   "cell_type": "code",
   "execution_count": 250,
   "metadata": {},
   "outputs": [
    {
     "name": "stdout",
     "output_type": "stream",
     "text": [
      "Vertex Exist!\n",
      "\n",
      "1  :  False\n",
      "-----> 2  :  True\n",
      "-----> 3  :  False\n",
      "2  :  True\n",
      "3  :  False\n",
      "-----> 4  :  False\n",
      "-----> 5  :  False\n",
      "\n",
      "Path does not exist between:  2  and  4\n"
     ]
    },
    {
     "data": {
      "text/plain": [
       "False"
      ]
     },
     "execution_count": 250,
     "metadata": {},
     "output_type": "execute_result"
    }
   ],
   "source": [
    "test_graph = Graph()\n",
    "\n",
    "\n",
    "test_graph.add(1, [2,3]) \n",
    "test_graph.add(3, [4,5]) \n",
    "# test_graph.add(2, [3]) \n",
    "\n",
    "\n",
    "# test_graph.print_graph()\n",
    "print()\n",
    "\n",
    "test_graph.breadth_first_search(2,4)"
   ]
  },
  {
   "cell_type": "markdown",
   "metadata": {},
   "source": [
    "## Notes\n",
    "### Discuss trade offs between breadth-first and depth first, bread-first will be able to find shortest path and can potentially find the end faster since depth first could go very deep down a neighbor"
   ]
  },
  {
   "cell_type": "markdown",
   "metadata": {},
   "source": [
    "# 4.2 Minimal Tree: Not Correct\n",
    "Given a sorted (increasing order) array with unique integer elements, write an algorithm to create a binary search tree with minimal height."
   ]
  },
  {
   "cell_type": "code",
   "execution_count": 295,
   "metadata": {},
   "outputs": [],
   "source": [
    "class Node:\n",
    "    def __init__(self,value):\n",
    "        self.value = value\n",
    "        self.left = None\n",
    "        self.right = None \n",
    "  \n",
    "    def insert(self,root,node):\n",
    "\n",
    "        if root is None:\n",
    "            root = node\n",
    "        else:\n",
    "            if node.value > root.value:\n",
    "                if root.right is None:\n",
    "                    root.right = node\n",
    "                else:\n",
    "                    insert(root.right,node)\n",
    "            else:\n",
    "                if root.left is None:\n",
    "                    root.left = node\n",
    "                else:\n",
    "                    insert(root.left,node)\n",
    "                    \n",
    "    def printTree(self):\n",
    "        if self.left:\n",
    "            print(\"Left\")\n",
    "            self.left.printTree()\n",
    "        else:\n",
    "            print(\"End\")\n",
    "        \n",
    "        print(self.value)\n",
    "        \n",
    "        \n",
    "        if self.right:\n",
    "            print(\"Right\")\n",
    "            self.right.printTree()\n",
    "        else:\n",
    "            print(\"End\")\n",
    "            \n",
    "    def __str__(self):\n",
    "        string = \"(\" + str(self.value)\n",
    "        if self.left:  string += \"Left\"+str(self.left)\n",
    "        else:          string += \".\"\n",
    "        if self.right: string += \"Right\"+str(self.right)\n",
    "        else:          string += \".\"\n",
    "        return string + \")\"\n",
    "\n",
    "            \n",
    "    \n",
    "\n",
    "        \n",
    "\n",
    "        "
   ]
  },
  {
   "cell_type": "code",
   "execution_count": 298,
   "metadata": {},
   "outputs": [
    {
     "data": {
      "text/plain": [
       "'(5Left(1.Right(2.Right(3.Right(4..))))Right(6.Right(7.Right(8.Right(9..)))))'"
      ]
     },
     "execution_count": 298,
     "metadata": {},
     "output_type": "execute_result"
    }
   ],
   "source": [
    "sorted_list = [1, 2, 3, 4, 5, 6, 7, 8, 9]\n",
    "\n",
    "middle_element = sorted_list.pop(len(sorted_list) // 2)\n",
    "root = Node(middle_element)\n",
    "\n",
    "for element in sorted_list:\n",
    "    node = Node(element)\n",
    "    root.insert(root,node)\n",
    "\n",
    "\n",
    "str(root)"
   ]
  },
  {
   "cell_type": "markdown",
   "metadata": {},
   "source": [
    "Correct = (5(3(2(1..).)(4..))(8(7(6..).)(9..)))\n",
    "\n",
    "\n",
    "My Answer = (5(1.(2.(3.(4..))))(6.(7.(8.(9..)))))"
   ]
  },
  {
   "cell_type": "markdown",
   "metadata": {},
   "source": [
    "### Correct Answer"
   ]
  },
  {
   "cell_type": "code",
   "execution_count": 322,
   "metadata": {},
   "outputs": [],
   "source": [
    "\n",
    "def minimal_height_bst(sorted_array):\n",
    "    if len(sorted_array) == 0:\n",
    "        return None\n",
    "    middle = len(sorted_array) // 2\n",
    "    left  = minimal_height_bst(sorted_array[:middle])\n",
    "    right = minimal_height_bst(sorted_array[(middle+1):])\n",
    "    \n",
    "    return BSTNode(sorted_array[middle], left, right)\n",
    "\n",
    "class BSTNode():\n",
    "    def __init__(self, data=None, left=None, right=None):\n",
    "        self.data, self.left, self.right = data, left, right\n",
    "\n",
    "\n",
    "    def __str__(self):\n",
    "\n",
    "        string = \"(\" + str(self.data)\n",
    "        if self.left:  string += \"Left\"+str(self.left)\n",
    "        else:          string += \".\"\n",
    "        if self.right: string += \"Right\"+str(self.right)\n",
    "        else:          string += \".\"\n",
    "        return string + \")\"\n",
    "\n"
   ]
  },
  {
   "cell_type": "code",
   "execution_count": 323,
   "metadata": {},
   "outputs": [
    {
     "data": {
      "text/plain": [
       "'(5Left(3Left(2Left(1..).)Right(4..))Right(8Left(7Left(6..).)Right(9..)))'"
      ]
     },
     "execution_count": 323,
     "metadata": {},
     "output_type": "execute_result"
    }
   ],
   "source": [
    "sorted_list = [1, 2, 3, 4, 5, 6, 7, 8, 9]\n",
    "\n",
    "bst = minimal_height_bst(sorted_list)\n",
    "\n",
    "str(bst)\n",
    "\n"
   ]
  },
  {
   "cell_type": "code",
   "execution_count": null,
   "metadata": {},
   "outputs": [],
   "source": []
  }
 ],
 "metadata": {
  "kernelspec": {
   "display_name": "Python 3",
   "language": "python",
   "name": "python3"
  },
  "language_info": {
   "codemirror_mode": {
    "name": "ipython",
    "version": 3
   },
   "file_extension": ".py",
   "mimetype": "text/x-python",
   "name": "python",
   "nbconvert_exporter": "python",
   "pygments_lexer": "ipython3",
   "version": "3.7.4"
  }
 },
 "nbformat": 4,
 "nbformat_minor": 2
}
