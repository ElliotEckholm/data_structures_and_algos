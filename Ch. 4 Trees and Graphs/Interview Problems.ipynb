{
 "cells": [
  {
   "cell_type": "markdown",
   "metadata": {},
   "source": [
    "# 4.1 Route Between Nodes: Correct\n",
    "Given a directed graph, design an algorithm to find out whether there is a route between two nodes.\n",
    "\n",
    "#### Answer 1:\n",
    "- Use breadth-first search, start at one of the two nodes, if both nodes are not visited by end of search then return False"
   ]
  },
  {
   "cell_type": "code",
   "execution_count": 164,
   "metadata": {},
   "outputs": [],
   "source": [
    "class Queue:\n",
    "    def __init__(self):\n",
    "        self.queue = []\n",
    "        \n",
    "    def enqueue(self,node):\n",
    "        self.queue.append(node)\n",
    "    \n",
    "    def dequeue(self):\n",
    "        return self.queue.pop(0)\n",
    "        \n",
    "    def isEmpty(self):\n",
    "        if len(self.queue) == 0:\n",
    "            return True\n",
    "        else:\n",
    "            return False\n",
    "        "
   ]
  },
  {
   "cell_type": "code",
   "execution_count": 245,
   "metadata": {},
   "outputs": [],
   "source": [
    "class Node:\n",
    "    def __init__(self,value : int, neighbors : list):\n",
    "        self.value = value\n",
    "        self.visited = False\n",
    "        self.neighbors = []\n",
    "        for neighbor in neighbors:\n",
    "            node_neighbor = Node(neighbor,[])\n",
    "            self.neighbors.append(node_neighbor)\n",
    "        \n",
    "\n",
    "class Graph:\n",
    "    def __init__(self):\n",
    "        self.graph = {}\n",
    "    \n",
    "    def add(self,value,neighbors):\n",
    "        \n",
    "        if value not in self.graph:\n",
    "            new_node = Node(value,neighbors)\n",
    "            self.graph[value] = new_node\n",
    "            for neighbor in new_node.neighbors:\n",
    "                self.graph[neighbor.value] = neighbor\n",
    "        else:\n",
    "            print(\"Vertex Exist!\")\n",
    "            for neighbor in neighbors:\n",
    "                if neighbor not in self.graph:\n",
    "                    new_node = Node(neighbor,[])\n",
    "                    self.graph[value].neighbors.append(new_node)\n",
    "                else:\n",
    "                    print(\"Neighbor Exist!\")\n",
    "                    self.graph[value].neighbors.append(self.graph[neighbor])\n",
    "      \n",
    "            \n",
    "    def breadth_first_search(self,start,end):\n",
    "        queue = Queue()\n",
    "        \n",
    "        visted = []\n",
    "        \n",
    "        start_node = self.graph[start]\n",
    "        start_node.visited = True\n",
    "        queue.enqueue(start_node)\n",
    "\n",
    "        while (queue.isEmpty() == False):\n",
    "            current_node = queue.dequeue()\n",
    "            visted.append(current_node.value)\n",
    "            self.print_graph()\n",
    "            for neighbor in current_node.neighbors: \n",
    "                if neighbor.visited == False:\n",
    "                    if neighbor.value == end:\n",
    "                        print(\"Path avaible between: \",start, \" and \", end)\n",
    "                        return True\n",
    "                    else:\n",
    "                        neighbor.visited = True\n",
    "                        queue.enqueue(neighbor)\n",
    "        \n",
    "        print(\"Path does not exist between: \",start, \" and \", end)\n",
    "        return False\n",
    "       \n",
    "    def print_graph(self):\n",
    "        for node in self.graph:\n",
    "            print(self.graph[node].value ,\" : \", self.graph[node].visited)\n",
    "            for neighbor in self.graph[node].neighbors:\n",
    "                print(\"----->\", neighbor.value, \" : \",neighbor.visited)\n",
    "        print()\n",
    "        "
   ]
  },
  {
   "cell_type": "code",
   "execution_count": 246,
   "metadata": {},
   "outputs": [
    {
     "name": "stdout",
     "output_type": "stream",
     "text": [
      "Vertex Exist!\n",
      "Vertex Exist!\n",
      "Neighbor Exist!\n",
      "\n",
      "1  :  False\n",
      "-----> 2  :  True\n",
      "-----> 3  :  False\n",
      "2  :  True\n",
      "-----> 3  :  False\n",
      "3  :  False\n",
      "-----> 4  :  False\n",
      "-----> 5  :  False\n",
      "\n",
      "1  :  False\n",
      "-----> 2  :  True\n",
      "-----> 3  :  True\n",
      "2  :  True\n",
      "-----> 3  :  True\n",
      "3  :  True\n",
      "-----> 4  :  False\n",
      "-----> 5  :  False\n",
      "\n",
      "Path avaible between:  2  and  5\n"
     ]
    },
    {
     "data": {
      "text/plain": [
       "True"
      ]
     },
     "execution_count": 246,
     "metadata": {},
     "output_type": "execute_result"
    }
   ],
   "source": [
    "test_graph = Graph()\n",
    "\n",
    "\n",
    "test_graph.add(1, [2,3]) \n",
    "test_graph.add(3, [4,5]) \n",
    "test_graph.add(2, [3]) \n",
    "\n",
    "\n",
    "# test_graph.print_graph()\n",
    "print()\n",
    "\n",
    "test_graph.breadth_first_search(2,5)"
   ]
  },
  {
   "cell_type": "markdown",
   "metadata": {},
   "source": [
    "## Notes\n",
    "### Discuss trade offs between breadth-first and depth first, bread-first will be able to find shortest path and can potentially find the end faster since depth first could go very deep down a neighbor"
   ]
  },
  {
   "cell_type": "code",
   "execution_count": null,
   "metadata": {},
   "outputs": [],
   "source": []
  }
 ],
 "metadata": {
  "kernelspec": {
   "display_name": "Python 3",
   "language": "python",
   "name": "python3"
  },
  "language_info": {
   "codemirror_mode": {
    "name": "ipython",
    "version": 3
   },
   "file_extension": ".py",
   "mimetype": "text/x-python",
   "name": "python",
   "nbconvert_exporter": "python",
   "pygments_lexer": "ipython3",
   "version": "3.7.4"
  }
 },
 "nbformat": 4,
 "nbformat_minor": 2
}
