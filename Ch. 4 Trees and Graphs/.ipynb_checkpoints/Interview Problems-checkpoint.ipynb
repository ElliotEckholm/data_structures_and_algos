{
 "cells": [
  {
   "cell_type": "markdown",
   "metadata": {},
   "source": [
    "# 4.1 Route Between Nodes:\n",
    "Given a directed graph, design an algorithm to find out whether there is a route between two nodes.\n",
    "\n",
    "#### Answer 1:\n",
    "- Use breadth-first search, start at one of the two nodes, if both nodes are not visited by end of search then return False"
   ]
  },
  {
   "cell_type": "code",
   "execution_count": 98,
   "metadata": {},
   "outputs": [],
   "source": [
    "class Queue:\n",
    "    def __init__(self):\n",
    "        self.queue = []\n",
    "        \n",
    "    def enqueue(self,node):\n",
    "        self.queue.append(node)\n",
    "    \n",
    "    def dequeue(self):\n",
    "        self.queue.pop(0)\n",
    "        \n",
    "    def isEmpty(self):\n",
    "        if len(self.queue) == 0:\n",
    "            return True\n",
    "        else:\n",
    "            return False\n",
    "        "
   ]
  },
  {
   "cell_type": "code",
   "execution_count": 125,
   "metadata": {},
   "outputs": [],
   "source": [
    "class Node:\n",
    "    def __init__(self,value : int, neighbors : list):\n",
    "        self.value = value\n",
    "        self.visited = False\n",
    "        self.neighbors = []\n",
    "        for neighbor in neighbors:\n",
    "            node_neighbor = Node(neighbor,[])\n",
    "            self.neighbors.append(node_neighbor)\n",
    "        \n",
    "\n",
    "class Graph:\n",
    "    def __init__(self):\n",
    "        self.graph = {}\n",
    "    \n",
    "    def add(self,value,neighbors):\n",
    "        new_node = Node(value,neighbors)\n",
    "        self.graph[value] = new_node\n",
    "      \n",
    "            \n",
    "#     def breadth_first_search(self,start_node,find_node):\n",
    "#         queue = Queue()\n",
    "\n",
    "#         start_node.visited = True\n",
    "#         queue.enqueue(start_node)\n",
    "\n",
    "#         while (queue.isEmpty() == False):\n",
    "#             current_node = queue.dequeue()\n",
    "\n",
    "#             for neighbor in self.graph[node]:\n",
    "#                 if neighbor\n",
    "       \n",
    "    def print_graph(self):\n",
    "        for node in self.graph:\n",
    "            print(self.graph[node].value ,\" : \", self.graph[node].visited,\" -> \")\n",
    "            for neighbor in self.graph[node].neighbors:\n",
    "                print(neighbor.value, \" : \",neighbor.visited)\n",
    "        "
   ]
  },
  {
   "cell_type": "code",
   "execution_count": 126,
   "metadata": {},
   "outputs": [
    {
     "name": "stdout",
     "output_type": "stream",
     "text": [
      "1  :  False  -> \n",
      "2  :  False\n",
      "3  :  False\n"
     ]
    }
   ],
   "source": [
    "test_graph = Graph()\n",
    "\n",
    "\n",
    "test_graph.add(1, [2,3]) \n",
    "# test_graph.addEdge(1, 3) \n",
    "# test_graph.addEdge(3, 4) \n",
    "\n",
    "\n",
    "test_graph.print_graph()"
   ]
  },
  {
   "cell_type": "code",
   "execution_count": null,
   "metadata": {},
   "outputs": [],
   "source": []
  }
 ],
 "metadata": {
  "kernelspec": {
   "display_name": "Python 3",
   "language": "python",
   "name": "python3"
  },
  "language_info": {
   "codemirror_mode": {
    "name": "ipython",
    "version": 3
   },
   "file_extension": ".py",
   "mimetype": "text/x-python",
   "name": "python",
   "nbconvert_exporter": "python",
   "pygments_lexer": "ipython3",
   "version": "3.7.4"
  }
 },
 "nbformat": 4,
 "nbformat_minor": 2
}
