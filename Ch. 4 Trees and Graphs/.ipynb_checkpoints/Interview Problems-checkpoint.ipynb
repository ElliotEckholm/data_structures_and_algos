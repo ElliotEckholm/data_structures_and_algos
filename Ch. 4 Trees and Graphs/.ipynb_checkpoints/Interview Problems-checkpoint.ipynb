{
 "cells": [
  {
   "cell_type": "markdown",
   "metadata": {},
   "source": [
    "# 4.1 Route Between Nodes: Correct\n",
    "Given a directed graph, design an algorithm to find out whether there is a route between two nodes.\n",
    "\n",
    "#### Answer 1:\n",
    "- Use breadth-first search, start at one of the two nodes, if both nodes are not visited by end of search then return False"
   ]
  },
  {
   "cell_type": "code",
   "execution_count": 12,
   "metadata": {},
   "outputs": [],
   "source": [
    "class Queue:\n",
    "    def __init__(self):\n",
    "        self.queue = []\n",
    "        \n",
    "    def enqueue(self,node):\n",
    "        self.queue.append(node)\n",
    "    \n",
    "    def dequeue(self):\n",
    "        return self.queue.pop(0)\n",
    "        \n",
    "    def isEmpty(self):\n",
    "        if len(self.queue) == 0:\n",
    "            return True\n",
    "        else:\n",
    "            return False\n",
    "        "
   ]
  },
  {
   "cell_type": "code",
   "execution_count": 13,
   "metadata": {},
   "outputs": [],
   "source": [
    "class Node:\n",
    "    def __init__(self,value : int, neighbors : list):\n",
    "        self.value = value\n",
    "        self.visited = False\n",
    "        self.neighbors = []\n",
    "        for neighbor in neighbors:\n",
    "            node_neighbor = Node(neighbor,[])\n",
    "            self.neighbors.append(node_neighbor)\n",
    "        \n",
    "\n",
    "class Graph:\n",
    "    def __init__(self):\n",
    "        self.graph = {}\n",
    "    \n",
    "    def add(self,value,neighbors):\n",
    "        \n",
    "        if value not in self.graph:\n",
    "            new_node = Node(value,neighbors)\n",
    "            self.graph[value] = new_node\n",
    "            for neighbor in new_node.neighbors:\n",
    "                self.graph[neighbor.value] = neighbor\n",
    "        else:\n",
    "            print(\"Vertex Exist!\")\n",
    "            for neighbor in neighbors:\n",
    "                if neighbor not in self.graph:\n",
    "                    new_node = Node(neighbor,[])\n",
    "                    self.graph[value].neighbors.append(new_node)\n",
    "                else:\n",
    "                    print(\"Neighbor Exist!\")\n",
    "                    self.graph[value].neighbors.append(self.graph[neighbor])\n",
    "      \n",
    "            \n",
    "    def breadth_first_search(self,start,end):\n",
    "        queue = Queue()\n",
    "        \n",
    "        visted = []\n",
    "        \n",
    "        start_node = self.graph[start]\n",
    "        start_node.visited = True\n",
    "        queue.enqueue(start_node)\n",
    "\n",
    "        while (queue.isEmpty() == False):\n",
    "            current_node = queue.dequeue()\n",
    "            visted.append(current_node.value)\n",
    "            self.print_graph()\n",
    "            for neighbor in current_node.neighbors: \n",
    "                if neighbor.visited == False:\n",
    "                    if neighbor.value == end:\n",
    "                        print(\"Path avaible between: \",start, \" and \", end)\n",
    "                        return True\n",
    "                    else:\n",
    "                        neighbor.visited = True\n",
    "                        queue.enqueue(neighbor)\n",
    "        \n",
    "        print(\"Path does not exist between: \",start, \" and \", end)\n",
    "        return False\n",
    "       \n",
    "    def print_graph(self):\n",
    "        for node in self.graph:\n",
    "            print(self.graph[node].value ,\" : \", self.graph[node].visited)\n",
    "            for neighbor in self.graph[node].neighbors:\n",
    "                print(\"----->\", neighbor.value, \" : \",neighbor.visited)\n",
    "        print()\n",
    "        "
   ]
  },
  {
   "cell_type": "code",
   "execution_count": 14,
   "metadata": {},
   "outputs": [
    {
     "name": "stdout",
     "output_type": "stream",
     "text": [
      "Vertex Exist!\n",
      "\n",
      "1  :  False\n",
      "-----> 2  :  True\n",
      "-----> 3  :  False\n",
      "2  :  True\n",
      "3  :  False\n",
      "-----> 4  :  False\n",
      "-----> 5  :  False\n",
      "\n",
      "Path does not exist between:  2  and  4\n"
     ]
    },
    {
     "data": {
      "text/plain": [
       "False"
      ]
     },
     "execution_count": 14,
     "metadata": {},
     "output_type": "execute_result"
    }
   ],
   "source": [
    "test_graph = Graph()\n",
    "\n",
    "\n",
    "test_graph.add(1, [2,3]) \n",
    "test_graph.add(3, [4,5]) \n",
    "# test_graph.add(2, [3]) \n",
    "\n",
    "\n",
    "# test_graph.print_graph()\n",
    "print()\n",
    "\n",
    "test_graph.breadth_first_search(2,4)"
   ]
  },
  {
   "cell_type": "markdown",
   "metadata": {},
   "source": [
    "## Notes\n",
    "### Discuss trade offs between breadth-first and depth first, bread-first will be able to find shortest path and can potentially find the end faster since depth first could go very deep down a neighbor"
   ]
  },
  {
   "cell_type": "markdown",
   "metadata": {},
   "source": [
    "# 4.2 Minimal Tree: Not Correct\n",
    "Given a sorted (increasing order) array with unique integer elements, write an algorithm to create a binary search tree with minimal height."
   ]
  },
  {
   "cell_type": "code",
   "execution_count": 85,
   "metadata": {},
   "outputs": [],
   "source": [
    "class Node:\n",
    "    def __init__(self,value):\n",
    "        self.value = value\n",
    "        self.left = None\n",
    "        self.right = None \n",
    "  \n",
    "    def insert(self,root,node):\n",
    "\n",
    "        if root is None:\n",
    "            root = node\n",
    "        else:\n",
    "            if node.value > root.value:\n",
    "                if root.right is None:\n",
    "                    root.right = node\n",
    "                else:\n",
    "                    self.insert(root.right,node)\n",
    "            else:\n",
    "                if root.left is None:\n",
    "                    root.left = node\n",
    "                else:\n",
    "                    self.insert(root.left,node)\n",
    "                    \n",
    "    def printTree(self):\n",
    "        if self.left:\n",
    "            print(\"Left\")\n",
    "            self.left.printTree()\n",
    "        else:\n",
    "            print(\"End\")\n",
    "        \n",
    "        print(self.value)\n",
    "        \n",
    "        \n",
    "        if self.right:\n",
    "            print(\"Right\")\n",
    "            self.right.printTree()\n",
    "        else:\n",
    "            print(\"End\")\n",
    "            \n",
    "    def __str__(self):\n",
    "        string = \"(\" + str(self.value)\n",
    "        if self.left:  string += \" Left\"+str(self.left)\n",
    "        else:          string += \".\"\n",
    "        if self.right: string += \" Right\"+str(self.right)\n",
    "        else:          string += \".\"\n",
    "        return string + \")\"\n",
    "\n",
    "            \n",
    "    \n",
    "\n",
    "        \n",
    "\n",
    "        "
   ]
  },
  {
   "cell_type": "code",
   "execution_count": 16,
   "metadata": {},
   "outputs": [],
   "source": [
    "# sorted_list = [1, 2, 3, 4, 5, 6, 7, 8, 9]\n",
    "\n",
    "# middle_element = sorted_list.pop(len(sorted_list) // 2)\n",
    "# root = Node(middle_element)\n",
    "\n",
    "# for element in sorted_list:\n",
    "#     node = Node(element)\n",
    "#     root.insert(root,node)\n",
    "\n",
    "\n",
    "# str(root)"
   ]
  },
  {
   "cell_type": "markdown",
   "metadata": {},
   "source": [
    "Correct = (5(3(2(1..).)(4..))(8(7(6..).)(9..)))\n",
    "\n",
    "\n",
    "My Answer = (5(1.(2.(3.(4..))))(6.(7.(8.(9..)))))"
   ]
  },
  {
   "cell_type": "markdown",
   "metadata": {},
   "source": [
    "### Correct Answer"
   ]
  },
  {
   "cell_type": "code",
   "execution_count": 62,
   "metadata": {},
   "outputs": [],
   "source": [
    "\n",
    "def minimal_height_bst(sorted_array):\n",
    "    if len(sorted_array) == 0:\n",
    "        return None\n",
    "    middle = len(sorted_array) // 2\n",
    "    left  = minimal_height_bst(sorted_array[:middle])\n",
    "    right = minimal_height_bst(sorted_array[(middle+1):])\n",
    "    \n",
    "    return BSTNode(sorted_array[middle], left, right)\n",
    "\n",
    "class BSTNode():\n",
    "    def __init__(self, data=None, left=None, right=None):\n",
    "        self.data, self.left, self.right = data, left, right\n",
    "\n",
    "\n",
    "    def __str__(self):\n",
    "\n",
    "        string = \"(\" + str(self.data)\n",
    "        if self.left:  string += \" Left\"+str(self.left)\n",
    "        else:          string += \".\"\n",
    "        if self.right: string += \" Right\"+str(self.right)\n",
    "        else:          string += \".\"\n",
    "        return string + \")\"\n",
    "\n"
   ]
  },
  {
   "cell_type": "code",
   "execution_count": 63,
   "metadata": {},
   "outputs": [
    {
     "data": {
      "text/plain": [
       "'(5 Left (3 Left (2 Left (1..).) Right (4..)) Right (8 Left (7 Left (6..).) Right (9..)))'"
      ]
     },
     "execution_count": 63,
     "metadata": {},
     "output_type": "execute_result"
    }
   ],
   "source": [
    "sorted_list = [1, 2, 3, 4, 5, 6, 7, 8, 9]\n",
    "\n",
    "bst = minimal_height_bst(sorted_list)\n",
    "\n",
    "str(bst)\n",
    "\n"
   ]
  },
  {
   "cell_type": "markdown",
   "metadata": {},
   "source": [
    "# 4.3 List of Depths: Not Correct\n",
    "Given a binary tree, design an algorithm which creates a linked list of all the nodes at each depth (e.g., if you have a tree with depth 0, you'll have 0 linked lists).\n"
   ]
  },
  {
   "cell_type": "code",
   "execution_count": 215,
   "metadata": {},
   "outputs": [],
   "source": [
    "class LinkedListNode:\n",
    "    def __init__(self,value):\n",
    "        self.value = value\n",
    "        self.next = None\n",
    "    \n",
    "\n",
    "class LinkedList:\n",
    "    def __init__(self,value):\n",
    "        self.head = LinkedListNode(value)\n",
    "        \n",
    "    def push(self,value):\n",
    "        node = LinkedListNode(value)\n",
    "        if self.head is None:\n",
    "            self.head = node\n",
    "        \n",
    "        else:\n",
    "            current_node = self.head\n",
    "            while current_node.next:\n",
    "                current_node = current_node.next\n",
    "            current_node.next = node\n",
    "            \n",
    "    def printList(self):\n",
    "        \n",
    "        current_node = self.head\n",
    "        \n",
    "        while current_node:\n",
    "            print(current_node.value)\n",
    "            current_node = current_node.next"
   ]
  },
  {
   "cell_type": "code",
   "execution_count": 293,
   "metadata": {},
   "outputs": [],
   "source": [
    "def listDepths(root,depth_list,left_depth,right_depth):\n",
    "    print()\n",
    "    print(\"Left Depth: \", left_depth)\n",
    "    print(\"Right Depth: \", right_depth)\n",
    "    \n",
    "    \n",
    "#     if left_depth not in depth_list:\n",
    "#         print(\"creating depth list\")\n",
    "#     depth_list[left_depth] = []  \n",
    "\n",
    "  \n",
    "    if root.left: \n",
    "        \n",
    "        left_depth += 1\n",
    "        depth_list[left_depth].append(root.left.value)\n",
    "#         print(depth_list[left_depth])\n",
    "        \n",
    "        print(root.left.value)\n",
    "    if root.right:\n",
    "#         print(depth_list[left_depth])\n",
    "       \n",
    "        right_depth += 1\n",
    "        depth_list[right_depth].append(root.right.value)\n",
    "        print(root.right.value)\n",
    "        \n",
    "        \n",
    "    if root.left: \n",
    "        \n",
    "        listDepths(root.left,depth_list,left_depth,right_depth)\n",
    "    if root.right: \n",
    "        \n",
    "        listDepths(root.right,depth_list,left_depth,right_depth)\n",
    "        \n",
    "    "
   ]
  },
  {
   "cell_type": "code",
   "execution_count": 294,
   "metadata": {},
   "outputs": [
    {
     "name": "stdout",
     "output_type": "stream",
     "text": [
      "(5 Left(4 Left(2..) Right(5..)) Right(6. Right(7..)))\n",
      "\n",
      "Left Depth:  1\n",
      "Right Depth:  1\n",
      "4\n",
      "6\n",
      "\n",
      "Left Depth:  2\n",
      "Right Depth:  2\n",
      "2\n",
      "5\n",
      "\n",
      "Left Depth:  3\n",
      "Right Depth:  3\n",
      "\n",
      "Left Depth:  3\n",
      "Right Depth:  3\n",
      "\n",
      "Left Depth:  2\n",
      "Right Depth:  2\n",
      "7\n",
      "\n",
      "Left Depth:  2\n",
      "Right Depth:  3\n",
      "\n",
      "\n",
      "[5]\n",
      "[4, 6, 7, 4, 6, 7, 4, 6, 7, 4, 6, 7, 4, 6, 7, 4, 6, 7, 4, 6, 2, 5, 7, 4, 6]\n",
      "[2, 5, 2, 5, 2, 5, 2, 5, 2, 5, 2, 5, 2, 5, 7, 2, 5, 7]\n"
     ]
    }
   ],
   "source": [
    "# ll = LinkedList(3)\n",
    "# ll.push(4)\n",
    "# ll.printList()\n",
    "\n",
    "root = Node(5)\n",
    "root.insert(root,Node(4))\n",
    "root.insert(root,Node(6))\n",
    "root.insert(root,Node(2))\n",
    "root.insert(root,Node(5))\n",
    "root.insert(root,Node(7))\n",
    "print(str(root))\n",
    "\n",
    "\n",
    "\n",
    "left_depth = 1\n",
    "right_depth = 1\n",
    "depth_list[left_depth] = [root.value]\n",
    "\n",
    "listDepths(root,depth_list,left_depth,right_depth)\n",
    "print()\n",
    "print()\n",
    "\n",
    "\n",
    "for element in depth_list:\n",
    "    print(depth_list[element])\n"
   ]
  },
  {
   "cell_type": "markdown",
   "metadata": {},
   "source": [
    "# 4.4 Check Balanced: Not Correct\n",
    "Implement a function to check if a binary tree is balanced. For the purposes of this question, a balanced tree is defined to be a tree such that the heights of the two subtrees of any node never differ by more than one."
   ]
  },
  {
   "cell_type": "code",
   "execution_count": 424,
   "metadata": {},
   "outputs": [],
   "source": [
    "class TreeNode:\n",
    "    def __init__(self,value=None,left=None,right=None):\n",
    "        self.value = value\n",
    "        self.left = left\n",
    "        self.right = right\n",
    "        self.depth = None\n",
    "    \n",
    "    def __str__(self):\n",
    "\n",
    "        string = \"(\" + str(self.value)\n",
    "        if self.left:  string += \" Left\"+str(self.left)\n",
    "        else:          string += \".\"\n",
    "        if self.right: string += \" Right\"+str(self.right)\n",
    "        else:          string += \".\"\n",
    "        return string + \")\"\n"
   ]
  },
  {
   "cell_type": "code",
   "execution_count": 532,
   "metadata": {},
   "outputs": [],
   "source": [
    "def pre_order_depth(root,depth):\n",
    "    \n",
    "    if root:\n",
    "        root.depth = depth\n",
    "        print(\"Depth: \",root.depth)\n",
    "        print(\"Value: \",root.value)\n",
    "        print()\n",
    "        depth += 1\n",
    "        pre_order_depth(root.left,depth)\n",
    "        pre_order_depth(root.right,depth)\n",
    "       \n",
    "    \n",
    "    "
   ]
  },
  {
   "cell_type": "markdown",
   "metadata": {},
   "source": [
    "## Correct Answers"
   ]
  },
  {
   "cell_type": "code",
   "execution_count": 618,
   "metadata": {},
   "outputs": [],
   "source": [
    "class Height:\n",
    "    def __init__(self):\n",
    "        self.height = 0\n",
    "\n",
    "def check_balance(root,height):\n",
    "    \n",
    "    left_height = Height()\n",
    "    right_height = Height()\n",
    "    \n",
    "    if root is None:\n",
    "        return True\n",
    "    \n",
    "    \n",
    "    print(\"Value: \", root.value)\n",
    "    left = check_balance(root.left,left_height)\n",
    "    right = check_balance(root.right,right_height)\n",
    "    print(\"Left Bool: \", left)\n",
    "    print(\"Right Bool: \",right)\n",
    "    \n",
    "    print(\"Left: \", left_height.height)\n",
    "    print(\"Right: \",right_height.height)\n",
    "    \n",
    "    \n",
    "    height.height = max(left_height.height,right_height.height) + 1\n",
    "    \n",
    "    print(\"height: \", height.height)\n",
    "    print()\n",
    "    \n",
    "    if abs(left_height.height - right_height.height) <= 1:\n",
    "        return left and right\n",
    "    \n",
    "    return False\n",
    "    \n",
    "    "
   ]
  },
  {
   "cell_type": "code",
   "execution_count": 640,
   "metadata": {},
   "outputs": [],
   "source": [
    "def get_height(root):\n",
    "    if root is None:\n",
    "        return -1\n",
    "    return max(get_height(root.left),get_height(root.right)) + 1"
   ]
  },
  {
   "cell_type": "code",
   "execution_count": 641,
   "metadata": {},
   "outputs": [],
   "source": [
    "def check_balance(root):\n",
    "    \n",
    "    #base case\n",
    "    if root is None:\n",
    "        return True\n",
    "    \n",
    "    height_diff = abs(get_height(root.left)-get_height(root.right))\n",
    "    \n",
    "    if height_diff > 1:\n",
    "        return False\n",
    "    else:\n",
    "        return check_balance(root.left) and check_balance(root.right)\n",
    "        "
   ]
  },
  {
   "cell_type": "code",
   "execution_count": 642,
   "metadata": {},
   "outputs": [
    {
     "data": {
      "text/plain": [
       "False"
      ]
     },
     "execution_count": 642,
     "metadata": {},
     "output_type": "execute_result"
    }
   ],
   "source": [
    "root = TreeNode(4)\n",
    "root.left = TreeNode(7)\n",
    "root.left.right = TreeNode(6)\n",
    "root.left.left = TreeNode(3)\n",
    "root.left.left.right = TreeNode(1)\n",
    "root.right = TreeNode(5)\n",
    "\n",
    "check_balance(root)"
   ]
  },
  {
   "cell_type": "markdown",
   "metadata": {},
   "source": [
    "# 4.5 Validate BST:\n",
    "Implement a function to check if a binary tree is a binary search tree.\n",
    "\n",
    "#### Strategy\n",
    "- Recurse through each node, if root.left <= root.value <= root.right return true else return false "
   ]
  },
  {
   "cell_type": "code",
   "execution_count": 905,
   "metadata": {},
   "outputs": [],
   "source": [
    "def check_bst(root):\n",
    "    \n",
    "    if root is None:\n",
    "        return True\n",
    "    \n",
    "    if left is None:\n",
    "        return True\n",
    "    else:\n",
    "        left = root.left\n",
    "    if right is None:\n",
    "        return True\n",
    "    else:\n",
    "        right = root.right\n",
    "    \n",
    "    \n",
    "    return left.value <= root.value and right.value > root.value and check_bst(root) and check_bst(root)\n",
    "    \n",
    "    \n",
    "# #     left_smaller = check_bst(root.left)\n",
    "# #     right_bigger = check_bst(root.right)\n",
    "    \n",
    "# #     print(root.value)\n",
    "   \n",
    "# #     print(\"Left Smaller: \", left_smaller)\n",
    "# #     print(\"Right Bigger: \", right_bigger)\n",
    "# #     print()\n",
    "    \n",
    "    \n",
    "    \n",
    "\n",
    "#     if root.left is not None and root.right is not None:\n",
    "#         if root.left.value <= root.value and root.right.value > root.value: \n",
    "#             return left_smaller and right_bigger\n",
    "    \n",
    "# #         else:\n",
    "# #             return False\n",
    "# #     else:\n",
    "# #         return True\n",
    "    \n",
    "    \n",
    "#     if root.left is not None:\n",
    "#         if root.left.value <= root.value: \n",
    "#             return True\n",
    "#     elif root.right is not None:\n",
    "#         if root.value < root.right.value:\n",
    "#             return True\n",
    "    \n",
    "# # #         else:\n",
    "# #             return False\n",
    "# #     else:\n",
    "# #         return True\n",
    "        \n",
    "# #     elif root.right is not None:\n",
    "# #         if root.value < root.right.value:\n",
    "# #             return True\n",
    "        \n",
    "#     return False\n",
    "        \n",
    "    \n",
    "    \n",
    "\n",
    "    "
   ]
  },
  {
   "cell_type": "code",
   "execution_count": 906,
   "metadata": {},
   "outputs": [
    {
     "ename": "UnboundLocalError",
     "evalue": "local variable 'left' referenced before assignment",
     "output_type": "error",
     "traceback": [
      "\u001b[0;31m---------------------------------------------------------------------------\u001b[0m",
      "\u001b[0;31mUnboundLocalError\u001b[0m                         Traceback (most recent call last)",
      "\u001b[0;32m<ipython-input-906-3a2fe984eca3>\u001b[0m in \u001b[0;36m<module>\u001b[0;34m\u001b[0m\n\u001b[1;32m      6\u001b[0m \u001b[0mroot\u001b[0m\u001b[0;34m.\u001b[0m\u001b[0mright\u001b[0m\u001b[0;34m.\u001b[0m\u001b[0mright\u001b[0m \u001b[0;34m=\u001b[0m \u001b[0mTreeNode\u001b[0m\u001b[0;34m(\u001b[0m\u001b[0;36m1\u001b[0m\u001b[0;34m)\u001b[0m\u001b[0;34m\u001b[0m\u001b[0;34m\u001b[0m\u001b[0m\n\u001b[1;32m      7\u001b[0m \u001b[0;34m\u001b[0m\u001b[0m\n\u001b[0;32m----> 8\u001b[0;31m \u001b[0mcheck_bst\u001b[0m\u001b[0;34m(\u001b[0m\u001b[0mroot\u001b[0m\u001b[0;34m)\u001b[0m\u001b[0;34m\u001b[0m\u001b[0;34m\u001b[0m\u001b[0m\n\u001b[0m",
      "\u001b[0;32m<ipython-input-905-ec8d7b40a8a8>\u001b[0m in \u001b[0;36mcheck_bst\u001b[0;34m(root)\u001b[0m\n\u001b[1;32m      4\u001b[0m         \u001b[0;32mreturn\u001b[0m \u001b[0;32mTrue\u001b[0m\u001b[0;34m\u001b[0m\u001b[0;34m\u001b[0m\u001b[0m\n\u001b[1;32m      5\u001b[0m \u001b[0;34m\u001b[0m\u001b[0m\n\u001b[0;32m----> 6\u001b[0;31m     \u001b[0;32mif\u001b[0m \u001b[0mleft\u001b[0m \u001b[0;32mis\u001b[0m \u001b[0;32mNone\u001b[0m\u001b[0;34m:\u001b[0m\u001b[0;34m\u001b[0m\u001b[0;34m\u001b[0m\u001b[0m\n\u001b[0m\u001b[1;32m      7\u001b[0m         \u001b[0;32mreturn\u001b[0m \u001b[0;32mTrue\u001b[0m\u001b[0;34m\u001b[0m\u001b[0;34m\u001b[0m\u001b[0m\n\u001b[1;32m      8\u001b[0m     \u001b[0;32melse\u001b[0m\u001b[0;34m:\u001b[0m\u001b[0;34m\u001b[0m\u001b[0;34m\u001b[0m\u001b[0m\n",
      "\u001b[0;31mUnboundLocalError\u001b[0m: local variable 'left' referenced before assignment"
     ]
    }
   ],
   "source": [
    "root = TreeNode(5)\n",
    "root.left = TreeNode(3)\n",
    "root.left.left = TreeNode(2)\n",
    "root.left.right = TreeNode(4)\n",
    "root.right = TreeNode(10)\n",
    "root.right.right = TreeNode(1)\n",
    "\n",
    "check_bst(root)"
   ]
  },
  {
   "cell_type": "code",
   "execution_count": null,
   "metadata": {},
   "outputs": [],
   "source": []
  },
  {
   "cell_type": "code",
   "execution_count": null,
   "metadata": {},
   "outputs": [],
   "source": []
  }
 ],
 "metadata": {
  "kernelspec": {
   "display_name": "Python 3",
   "language": "python",
   "name": "python3"
  },
  "language_info": {
   "codemirror_mode": {
    "name": "ipython",
    "version": 3
   },
   "file_extension": ".py",
   "mimetype": "text/x-python",
   "name": "python",
   "nbconvert_exporter": "python",
   "pygments_lexer": "ipython3",
   "version": "3.7.4"
  }
 },
 "nbformat": 4,
 "nbformat_minor": 2
}
