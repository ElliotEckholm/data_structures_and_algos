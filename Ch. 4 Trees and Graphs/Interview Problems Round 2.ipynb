{
 "cells": [
  {
   "cell_type": "markdown",
   "metadata": {},
   "source": [
    "# 4.5 Validate BST:\n",
    " Implement a function to check if a binary tree is a binary search tree."
   ]
  },
  {
   "cell_type": "code",
   "execution_count": 32,
   "metadata": {},
   "outputs": [],
   "source": [
    "class TreeNode:\n",
    "    def __init__(self,value=None,left=None,right=None):\n",
    "        self.value = value\n",
    "        self.left = left\n",
    "        self.right = right \n",
    "        self.visited = False\n",
    "        \n",
    "        \n",
    "    def __str__(self):\n",
    "    \n",
    "        string = \"( \" + str(self.value)\n",
    "    \n",
    "        if self.left:\n",
    "            string += \" Left \"+str(self.left)\n",
    "        if self.right:\n",
    "            string += \" Right \"+str(self.right)\n",
    "        \n",
    "       \n",
    "        return string + \" )\"\n",
    "        \n",
    "    "
   ]
  },
  {
   "cell_type": "code",
   "execution_count": 43,
   "metadata": {},
   "outputs": [],
   "source": [
    "def validate_bst(root,lower_bound,upper_bound):\n",
    "    if root is None:\n",
    "        return True\n",
    "   \n",
    "    if root.value > lower_bound and root.value <= upper_bound and \\\n",
    "        validate_bst(root.left,lower_bound,root.value) and \\\n",
    "        validate_bst(root.right,root.value,upper_bound) :\n",
    "        return True\n",
    "  \n",
    "\n",
    "    return False\n",
    "    \n",
    "    \n",
    "   \n",
    "  "
   ]
  },
  {
   "cell_type": "code",
   "execution_count": 44,
   "metadata": {},
   "outputs": [
    {
     "name": "stdout",
     "output_type": "stream",
     "text": [
      "( 4 Left ( 5 ) Right ( 6 Left ( 5 ) Right ( 8 ) ) )\n"
     ]
    },
    {
     "data": {
      "text/plain": [
       "False"
      ]
     },
     "execution_count": 44,
     "metadata": {},
     "output_type": "execute_result"
    }
   ],
   "source": [
    "root = TreeNode(4)\n",
    "root.left = TreeNode(5)\n",
    "root.right = TreeNode(6)\n",
    "root.right.left = TreeNode(5)\n",
    "root.right.right = TreeNode(8)\n",
    "\n",
    "print(str(root))\n",
    "\n",
    "validate_bst(root,float('-inf'),float('inf'))"
   ]
  },
  {
   "cell_type": "code",
   "execution_count": null,
   "metadata": {},
   "outputs": [],
   "source": []
  },
  {
   "cell_type": "code",
   "execution_count": null,
   "metadata": {},
   "outputs": [],
   "source": []
  }
 ],
 "metadata": {
  "kernelspec": {
   "display_name": "Python 3",
   "language": "python",
   "name": "python3"
  },
  "language_info": {
   "codemirror_mode": {
    "name": "ipython",
    "version": 3
   },
   "file_extension": ".py",
   "mimetype": "text/x-python",
   "name": "python",
   "nbconvert_exporter": "python",
   "pygments_lexer": "ipython3",
   "version": "3.7.4"
  }
 },
 "nbformat": 4,
 "nbformat_minor": 2
}
