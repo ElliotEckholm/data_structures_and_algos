{
 "cells": [
  {
   "cell_type": "markdown",
   "metadata": {},
   "source": [
    "# Memoization Fibonacci Numbers"
   ]
  },
  {
   "cell_type": "code",
   "execution_count": 3,
   "metadata": {},
   "outputs": [],
   "source": [
    "import sys"
   ]
  },
  {
   "cell_type": "code",
   "execution_count": 51,
   "metadata": {},
   "outputs": [],
   "source": [
    "def fib(i,fib_array):\n",
    "    if i == 0 or i == 1:\n",
    "        return i\n",
    "    \n",
    "    if i not in fib_array:\n",
    "        fib_array[i] = fib(i - 1,fib_array) + fib(i - 2,fib_array)\n",
    "    \n",
    "    print(fib_array[i])\n",
    "    return fib_array[i]"
   ]
  },
  {
   "cell_type": "code",
   "execution_count": 55,
   "metadata": {},
   "outputs": [
    {
     "name": "stdout",
     "output_type": "stream",
     "text": [
      "1\n",
      "2\n"
     ]
    },
    {
     "data": {
      "text/plain": [
       "2"
      ]
     },
     "execution_count": 55,
     "metadata": {},
     "output_type": "execute_result"
    }
   ],
   "source": [
    "i = 0\n",
    "fib_array = {}\n",
    "\n",
    "fib(3,fib_array)"
   ]
  },
  {
   "cell_type": "markdown",
   "metadata": {},
   "source": [
    "# 8.1 Triple Step:\n",
    "A child is running up a staircase with n steps and can hop either 1 step, 2 steps, or 3 steps at a time. Implement a method to count how many possible ways the child can run up the stairs."
   ]
  },
  {
   "cell_type": "code",
   "execution_count": 130,
   "metadata": {},
   "outputs": [],
   "source": [
    "def triple_step(count,n_stairs,n_stairs_left):\n",
    "    \n",
    "\n",
    "    step_1 = 1\n",
    "    step_2 = 2\n",
    "    step_3 = 3\n",
    "    \n",
    "    \n",
    "    print(\"Stairs left\", n_stairs_left)\n",
    "    \n",
    "    if n_stairs_left> 0:\n",
    "        count += 1\n",
    "        n_stairs_left -= step_3\n",
    "        count = triple_step(count,n_stairs,n_stairs_left)\n",
    "    \n",
    "    \n",
    "    return count\n",
    "    \n",
    "  \n",
    "    \n",
    "    \n",
    "   \n",
    "    \n",
    "    "
   ]
  },
  {
   "cell_type": "code",
   "execution_count": 128,
   "metadata": {},
   "outputs": [
    {
     "name": "stdout",
     "output_type": "stream",
     "text": [
      "Stairs left 4\n",
      "Stairs left 2\n",
      "Stairs left 0\n"
     ]
    },
    {
     "data": {
      "text/plain": [
       "2"
      ]
     },
     "execution_count": 128,
     "metadata": {},
     "output_type": "execute_result"
    }
   ],
   "source": [
    "count = 0\n",
    "n_stairs = 4\n",
    "n_steps = 1\n",
    "step_sum = n_steps\n",
    "\n",
    "n_stairs_left = n_stairs\n",
    "triple_step(count,n_stairs,n_stairs_left)\n"
   ]
  },
  {
   "cell_type": "code",
   "execution_count": null,
   "metadata": {},
   "outputs": [],
   "source": []
  }
 ],
 "metadata": {
  "kernelspec": {
   "display_name": "Python 3",
   "language": "python",
   "name": "python3"
  },
  "language_info": {
   "codemirror_mode": {
    "name": "ipython",
    "version": 3
   },
   "file_extension": ".py",
   "mimetype": "text/x-python",
   "name": "python",
   "nbconvert_exporter": "python",
   "pygments_lexer": "ipython3",
   "version": "3.7.4"
  }
 },
 "nbformat": 4,
 "nbformat_minor": 2
}
