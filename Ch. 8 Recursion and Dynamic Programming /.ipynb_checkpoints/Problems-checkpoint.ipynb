{
 "cells": [
  {
   "cell_type": "markdown",
   "metadata": {},
   "source": [
    "# Memoization Fibonacci Numbers"
   ]
  },
  {
   "cell_type": "code",
   "execution_count": 3,
   "metadata": {},
   "outputs": [],
   "source": [
    "import sys"
   ]
  },
  {
   "cell_type": "code",
   "execution_count": 51,
   "metadata": {},
   "outputs": [],
   "source": [
    "def fib(i,fib_array):\n",
    "    if i == 0 or i == 1:\n",
    "        return i\n",
    "    \n",
    "    if i not in fib_array:\n",
    "        fib_array[i] = fib(i - 1,fib_array) + fib(i - 2,fib_array)\n",
    "    \n",
    "    print(fib_array[i])\n",
    "    return fib_array[i]"
   ]
  },
  {
   "cell_type": "code",
   "execution_count": 55,
   "metadata": {},
   "outputs": [
    {
     "name": "stdout",
     "output_type": "stream",
     "text": [
      "1\n",
      "2\n"
     ]
    },
    {
     "data": {
      "text/plain": [
       "2"
      ]
     },
     "execution_count": 55,
     "metadata": {},
     "output_type": "execute_result"
    }
   ],
   "source": [
    "i = 0\n",
    "fib_array = {}\n",
    "\n",
    "fib(3,fib_array)"
   ]
  },
  {
   "cell_type": "markdown",
   "metadata": {},
   "source": [
    "# 8.1 Triple Step:\n",
    "A child is running up a staircase with n steps and can hop either 1 step, 2 steps, or 3 steps at a time. Implement a method to count how many possible ways the child can run up the stairs."
   ]
  },
  {
   "cell_type": "code",
   "execution_count": 133,
   "metadata": {},
   "outputs": [],
   "source": [
    "def triple_step(n):\n",
    "    \n",
    "    if n < 0:\n",
    "        return 0\n",
    "    elif n == 0:\n",
    "        return 1\n",
    "    else:\n",
    "        return triple_step(n-1) + triple_step(n-2) + triple_step(n-3)\n",
    "\n",
    "    "
   ]
  },
  {
   "cell_type": "code",
   "execution_count": 135,
   "metadata": {},
   "outputs": [
    {
     "data": {
      "text/plain": [
       "7"
      ]
     },
     "execution_count": 135,
     "metadata": {},
     "output_type": "execute_result"
    }
   ],
   "source": [
    "\n",
    "n = 4\n",
    "\n",
    "triple_step(n)\n"
   ]
  },
  {
   "cell_type": "markdown",
   "metadata": {},
   "source": [
    "### Memoization Solution"
   ]
  },
  {
   "cell_type": "code",
   "execution_count": 146,
   "metadata": {},
   "outputs": [],
   "source": [
    "def triple_step(n,step_map):\n",
    "    \n",
    "    if n < 0:\n",
    "        return 0\n",
    "    elif n == 0:\n",
    "        return 1\n",
    "    elif n in step_map:\n",
    "        return step_map[n]\n",
    "    else:\n",
    "        step_map[n] = triple_step(n-1,step_map) + triple_step(n-2,step_map) + triple_step(n-3,step_map)\n",
    "        return step_map[n]\n",
    "\n",
    "    "
   ]
  },
  {
   "cell_type": "code",
   "execution_count": 147,
   "metadata": {},
   "outputs": [
    {
     "data": {
      "text/plain": [
       "7"
      ]
     },
     "execution_count": 147,
     "metadata": {},
     "output_type": "execute_result"
    }
   ],
   "source": [
    "n = 4\n",
    "step_map = {}\n",
    "\n",
    "triple_step(n,step_map)"
   ]
  },
  {
   "cell_type": "markdown",
   "metadata": {},
   "source": [
    "# 8.2 Robot in a Grid: \n",
    "Imagine a robot sitting on the upper left corner of grid with r rows and c columns. The robot can only move in two directions, right and down, but certain cells are \"off limits\" such that the robot cannot step on them. Design an algorithm to find a path for the robot from the top left to the bottom right."
   ]
  },
  {
   "cell_type": "code",
   "execution_count": 246,
   "metadata": {},
   "outputs": [],
   "source": [
    "def robot_maze(maze,i,j):\n",
    "    \n",
    "    #check out of bounds\n",
    "    if maze[i][j] == 'x' or j < 0 or i < 0:\n",
    "        return False\n",
    "    \n",
    "\n",
    "    #if reach end then set to true\n",
    "    end_reached = i == 0 and j == 0\n",
    "    \n",
    "    if end_reached or robot_maze(maze,i-1,j) or robot_maze(maze,i,j-1): \n",
    "        print(\"i = \",i)\n",
    "        print(\"j = \",j)\n",
    "        print()\n",
    "        return True\n",
    "    \n",
    "    return False\n",
    "       \n",
    "    \n",
    "   \n",
    "   \n",
    "  "
   ]
  },
  {
   "cell_type": "code",
   "execution_count": 286,
   "metadata": {},
   "outputs": [
    {
     "name": "stdout",
     "output_type": "stream",
     "text": [
      "[['S', 'x', 0, 0], [0, 'x', 0, 0], [0, 'x', 0, 0], [0, 0, 0, 0]]\n",
      "i =  0\n",
      "j =  0\n",
      "\n",
      "i =  1\n",
      "j =  0\n",
      "\n",
      "i =  2\n",
      "j =  0\n",
      "\n",
      "i =  3\n",
      "j =  0\n",
      "\n",
      "i =  3\n",
      "j =  1\n",
      "\n",
      "i =  3\n",
      "j =  2\n",
      "\n",
      "i =  3\n",
      "j =  3\n",
      "\n"
     ]
    },
    {
     "data": {
      "text/plain": [
       "True"
      ]
     },
     "execution_count": 286,
     "metadata": {},
     "output_type": "execute_result"
    }
   ],
   "source": [
    "length = 4\n",
    "maze = [[0 for x in range(length)] for y in range(length)] \n",
    "\n",
    "# maze[0][0] = 'S'\n",
    "# maze[0][1] = 'x'\n",
    "# maze[1][1] = 'x'\n",
    "# maze[2][1] = 'x'\n",
    "# maze[3][1] = 'x'\n",
    "# maze[0][3] = 'x'\n",
    "# maze[0][3] = 'x'\n",
    "\n",
    "maze[0][0] = 'S'\n",
    "maze[0][1] = 'x'\n",
    "maze[1][1] = 'x'\n",
    "maze[2][1] = 'x'\n",
    "# maze[3][1] = 'x'\n",
    "\n",
    "\n",
    "print(maze)\n",
    "\n",
    "robot_maze(maze,3,3)"
   ]
  },
  {
   "cell_type": "markdown",
   "metadata": {},
   "source": [
    "## Dynamic Programming Solution"
   ]
  },
  {
   "cell_type": "code",
   "execution_count": 296,
   "metadata": {},
   "outputs": [],
   "source": [
    "def robot_maze_optimized(maze,i,j,failed_points,total):\n",
    "    \n",
    "    #check out of bounds\n",
    "    if maze[i][j] == 'x' or j < 0 or i < 0:\n",
    "        return False\n",
    "    \n",
    "    if i in failed_points:\n",
    "        if failed_points[i] == j:\n",
    "            print()\n",
    "            print(\"i = \",i)\n",
    "            print(\"j = \",j)\n",
    "            print(\"^^point failed already\")\n",
    "            return False\n",
    "\n",
    "    #if reach end then set to true\n",
    "    end_reached = i == 0 and j == 0\n",
    "    \n",
    "    if end_reached or robot_maze_optimized(maze,i-1,j,failed_points,total) or robot_maze_optimized(maze,i,j-1,failed_points,total): \n",
    "        print(\"i = \",i)\n",
    "        print(\"j = \",j)\n",
    "        print()\n",
    "        return True\n",
    "    \n",
    "    failed_points[i] = j\n",
    "    return False\n",
    "       \n",
    "    "
   ]
  },
  {
   "cell_type": "code",
   "execution_count": 297,
   "metadata": {},
   "outputs": [
    {
     "name": "stdout",
     "output_type": "stream",
     "text": [
      "[['S', 'x', 0, 0], [0, 'x', 0, 0], [0, 'x', 0, 0], [0, 0, 0, 0]]\n",
      "\n",
      "i =  0\n",
      "j =  2\n",
      "^^point failed already\n",
      "\n",
      "i =  1\n",
      "j =  2\n",
      "^^point failed already\n",
      "i =  0\n",
      "j =  0\n",
      "\n",
      "i =  1\n",
      "j =  0\n",
      "\n",
      "i =  2\n",
      "j =  0\n",
      "\n",
      "i =  3\n",
      "j =  0\n",
      "\n",
      "i =  3\n",
      "j =  1\n",
      "\n",
      "i =  3\n",
      "j =  2\n",
      "\n",
      "i =  3\n",
      "j =  3\n",
      "\n"
     ]
    },
    {
     "data": {
      "text/plain": [
       "True"
      ]
     },
     "execution_count": 297,
     "metadata": {},
     "output_type": "execute_result"
    }
   ],
   "source": [
    "length = 4\n",
    "maze = [[0 for x in range(length)] for y in range(length)] \n",
    "\n",
    "\n",
    "maze[0][0] = 'S'\n",
    "maze[0][1] = 'x'\n",
    "maze[1][1] = 'x'\n",
    "maze[2][1] = 'x'\n",
    "# maze[3][1] = 'x'\n",
    "\n",
    "\n",
    "print(maze)\n",
    "total = 0\n",
    "failed_points = {}\n",
    "robot_maze_optimized(maze,3,3,failed_points,total)\n",
    "\n"
   ]
  },
  {
   "cell_type": "markdown",
   "metadata": {},
   "source": [
    "# 8.3 "
   ]
  },
  {
   "cell_type": "code",
   "execution_count": null,
   "metadata": {},
   "outputs": [],
   "source": []
  },
  {
   "cell_type": "code",
   "execution_count": null,
   "metadata": {},
   "outputs": [],
   "source": []
  }
 ],
 "metadata": {
  "kernelspec": {
   "display_name": "Python 3",
   "language": "python",
   "name": "python3"
  },
  "language_info": {
   "codemirror_mode": {
    "name": "ipython",
    "version": 3
   },
   "file_extension": ".py",
   "mimetype": "text/x-python",
   "name": "python",
   "nbconvert_exporter": "python",
   "pygments_lexer": "ipython3",
   "version": "3.7.4"
  }
 },
 "nbformat": 4,
 "nbformat_minor": 2
}
