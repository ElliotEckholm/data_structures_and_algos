{
 "cells": [
  {
   "cell_type": "code",
   "execution_count": 52,
   "metadata": {},
   "outputs": [],
   "source": [
    "\n",
    "class Graph: \n",
    "\n",
    "    def __init__(self): \n",
    "        if graph_dict is None:\n",
    "            graph_dict = {}\n",
    "        self.graph_dict = graph_dict\n",
    "\n",
    "\n",
    "        \n",
    "        \n",
    "def breadth_first_search(graph, startnode):\n",
    "# Track the visited and unvisited nodes using queue\n",
    "        seen = set([startnode])\n",
    "        queue = [startnode]\n",
    "        while queue:\n",
    "           \n",
    "            vertex = queue.pop(0)\n",
    "            print(vertex)\n",
    "            print(queue)\n",
    "            for node in graph[vertex]:\n",
    "                if node not in seen:\n",
    "                    seen.add(node)\n",
    "                    queue.append(node)\n",
    "        \n",
    "        \n",
    "\n"
   ]
  },
  {
   "cell_type": "code",
   "execution_count": 53,
   "metadata": {},
   "outputs": [
    {
     "name": "stdout",
     "output_type": "stream",
     "text": [
      "a\n",
      "[]\n",
      "b\n",
      "['c']\n",
      "c\n",
      "['d']\n",
      "d\n",
      "[]\n",
      "e\n",
      "[]\n",
      "\n"
     ]
    }
   ],
   "source": [
    "test_graph = { \"a\" : set([\"b\",\"c\"]),\n",
    "                \"b\" : set([\"a\", \"d\"]),\n",
    "                \"c\" : set([\"a\", \"d\"]),\n",
    "                \"d\" : set([\"e\"]),\n",
    "                \"e\" : set([\"d\"])\n",
    "                }\n",
    "\n",
    "\n",
    "breadth_first_search(test_graph, 'a')\n",
    "print()\n",
    "\n"
   ]
  },
  {
   "cell_type": "code",
   "execution_count": null,
   "metadata": {},
   "outputs": [],
   "source": []
  },
  {
   "cell_type": "code",
   "execution_count": null,
   "metadata": {},
   "outputs": [],
   "source": []
  }
 ],
 "metadata": {
  "kernelspec": {
   "display_name": "Python 3",
   "language": "python",
   "name": "python3"
  },
  "language_info": {
   "codemirror_mode": {
    "name": "ipython",
    "version": 3
   },
   "file_extension": ".py",
   "mimetype": "text/x-python",
   "name": "python",
   "nbconvert_exporter": "python",
   "pygments_lexer": "ipython3",
   "version": "3.7.4"
  }
 },
 "nbformat": 4,
 "nbformat_minor": 2
}
