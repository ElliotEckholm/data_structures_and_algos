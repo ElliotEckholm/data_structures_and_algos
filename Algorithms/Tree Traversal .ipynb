{
 "cells": [
  {
   "cell_type": "markdown",
   "metadata": {},
   "source": [
    "## Binary Tree + In Order Traversal "
   ]
  },
  {
   "cell_type": "code",
   "execution_count": 39,
   "metadata": {},
   "outputs": [],
   "source": [
    "class Node:\n",
    "\n",
    "    def __init__(self, value):\n",
    "\n",
    "        self.left = None\n",
    "        self.right = None\n",
    "        self.value = value\n",
    "        \n",
    "    def insert(self, value):\n",
    "        '''If new value is less the parent add to left, if greater than add to right'''\n",
    "        if self.value:\n",
    "            if value < self.value:\n",
    "                if self.left is None:\n",
    "                    self.left = Node(value)\n",
    "                else:\n",
    "                    self.left.insert(value)\n",
    "            if value > self.value:\n",
    "                if self.right is None:\n",
    "                    self.right = Node(value)\n",
    "                else:\n",
    "                    self.right.insert(value)\n",
    "        else:\n",
    "            self.value = Node(value)\n",
    "                    \n",
    "\n",
    "\n",
    "    def PrintTree(self):\n",
    "        if self.left:\n",
    "            self.left.PrintTree()\n",
    "        \n",
    "        print( self.value)\n",
    "        \n",
    "        if self.right:\n",
    "            self.right.PrintTree()\n",
    "            \n",
    "            \n",
    "    def in_order_traversal(self,root):\n",
    "        traversed_list = []\n",
    "\n",
    "        if root is not None:\n",
    "            \n",
    "            traversed_list = self.in_order_traversal(root.left)\n",
    "            traversed_list.append(root.value)\n",
    "            traversed_list = traversed_list + self.in_order_traversal(root.right)\n",
    "        return traversed_list\n",
    "    \n",
    "    \n",
    "        "
   ]
  },
  {
   "cell_type": "code",
   "execution_count": 40,
   "metadata": {},
   "outputs": [
    {
     "data": {
      "text/plain": [
       "[10, 14, 19, 27, 31, 35, 42]"
      ]
     },
     "execution_count": 40,
     "metadata": {},
     "output_type": "execute_result"
    }
   ],
   "source": [
    "root = Node(27)\n",
    "root.insert(14)\n",
    "root.insert(35)\n",
    "root.insert(10)\n",
    "root.insert(19)\n",
    "root.insert(31)\n",
    "root.insert(42)\n",
    "\n",
    "# root.PrintTree()\n",
    "root.in_order_traversal(root)\n",
    "\n"
   ]
  },
  {
   "cell_type": "markdown",
   "metadata": {},
   "source": [
    "## Pre Order Traversal "
   ]
  },
  {
   "cell_type": "code",
   "execution_count": 57,
   "metadata": {},
   "outputs": [],
   "source": [
    "class Node:\n",
    "\n",
    "    def __init__(self, value):\n",
    "\n",
    "        self.left = None\n",
    "        self.right = None\n",
    "        self.value = value\n",
    "        \n",
    "    def insert(self, value):\n",
    "        '''If new value is less the parent add to left, if greater than add to right'''\n",
    "        if self.value:\n",
    "            if value < self.value:\n",
    "                if self.left is None:\n",
    "                    self.left = Node(value)\n",
    "                else:\n",
    "                    self.left.insert(value)\n",
    "            if value > self.value:\n",
    "                if self.right is None:\n",
    "                    self.right = Node(value)\n",
    "                else:\n",
    "                    self.right.insert(value)\n",
    "        else:\n",
    "            self.value = Node(value)\n",
    "                    \n",
    "\n",
    "\n",
    "    def PrintTree(self):\n",
    "        if self.left:\n",
    "            self.left.PrintTree()\n",
    "        \n",
    "        print( self.value)\n",
    "        \n",
    "        if self.right:\n",
    "            self.right.PrintTree()\n",
    "            \n",
    "            \n",
    "    def pre_order_traversal(self,root):\n",
    "        traversed_list = []\n",
    "\n",
    "        if root is not None:\n",
    "            traversed_list.append(root.value)\n",
    "            traversed_list = traversed_list + self.pre_order_traversal(root.left)\n",
    "            traversed_list = traversed_list + self.pre_order_traversal(root.right)\n",
    "        return traversed_list\n",
    "    \n",
    "    def post_order_traversal(self,root):\n",
    "        traversed_list = []\n",
    "\n",
    "        if root is not None:\n",
    "            traversed_list = self.post_order_traversal(root.left)\n",
    "            traversed_list = traversed_list + self.post_order_traversal(root.right)\n",
    "            traversed_list.append(root.value)\n",
    "        return traversed_list\n",
    "    \n",
    "    \n",
    "        "
   ]
  },
  {
   "cell_type": "code",
   "execution_count": 59,
   "metadata": {},
   "outputs": [
    {
     "name": "stdout",
     "output_type": "stream",
     "text": [
      "[27, 14, 10, 19, 35, 31, 42]\n",
      "[10, 19, 14, 31, 42, 35, 27]\n"
     ]
    }
   ],
   "source": [
    "root = Node(27)\n",
    "root.insert(14)\n",
    "root.insert(35)\n",
    "root.insert(10)\n",
    "root.insert(19)\n",
    "root.insert(31)\n",
    "root.insert(42)\n",
    "\n",
    "\n",
    "print(root.pre_order_traversal(root))\n",
    "\n",
    "\n",
    "print(root.post_order_traversal(root))\n",
    "\n"
   ]
  },
  {
   "cell_type": "code",
   "execution_count": null,
   "metadata": {},
   "outputs": [],
   "source": []
  }
 ],
 "metadata": {
  "kernelspec": {
   "display_name": "Python 3",
   "language": "python",
   "name": "python3"
  },
  "language_info": {
   "codemirror_mode": {
    "name": "ipython",
    "version": 3
   },
   "file_extension": ".py",
   "mimetype": "text/x-python",
   "name": "python",
   "nbconvert_exporter": "python",
   "pygments_lexer": "ipython3",
   "version": "3.7.4"
  }
 },
 "nbformat": 4,
 "nbformat_minor": 2
}
