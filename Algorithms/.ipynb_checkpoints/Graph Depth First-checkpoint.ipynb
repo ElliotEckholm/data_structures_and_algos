{
 "cells": [
  {
   "cell_type": "code",
   "execution_count": 19,
   "metadata": {},
   "outputs": [],
   "source": [
    "class graph:\n",
    "\n",
    "    def __init__(self,graph_dict=None):\n",
    "        if graph_dict is None:\n",
    "            graph_dict = {}\n",
    "        self.graph_dict = graph_dict\n",
    "        \n",
    "def depth_first_traversal(graph,start,visited=None):\n",
    "    if visited == None:\n",
    "        visited = set()\n",
    "    visited.add(start)\n",
    "    print(\"Graph start  : \", graph[start])\n",
    "    print(\"Visited  : \",visited)\n",
    "    print()\n",
    "    for next_vertex in graph[start] - visited:\n",
    "        depth_first_traversal(graph,next_vertex,visited)\n",
    "    return visited"
   ]
  },
  {
   "cell_type": "code",
   "execution_count": 25,
   "metadata": {},
   "outputs": [
    {
     "name": "stdout",
     "output_type": "stream",
     "text": [
      "Graph start  :  {'b', 'c'}\n",
      "Visited  :  {'a'}\n",
      "\n",
      "Graph start  :  {'d', 'a'}\n",
      "Visited  :  {'b', 'a'}\n",
      "\n",
      "Graph start  :  {'e'}\n",
      "Visited  :  {'b', 'd', 'a'}\n",
      "\n",
      "Graph start  :  {'d'}\n",
      "Visited  :  {'b', 'd', 'e', 'a'}\n",
      "\n",
      "Graph start  :  {'d', 'a'}\n",
      "Visited  :  {'a', 'b', 'e', 'd', 'c'}\n",
      "\n"
     ]
    },
    {
     "data": {
      "text/plain": [
       "{'a', 'b', 'c', 'd', 'e'}"
      ]
     },
     "execution_count": 25,
     "metadata": {},
     "output_type": "execute_result"
    }
   ],
   "source": [
    "test_graph = { \"a\" : set([\"b\",\"c\"]),\n",
    "                \"b\" : set([\"a\", \"d\"]),\n",
    "                \"c\" : set([\"a\", \"d\"]),\n",
    "                \"d\" : set([\"e\"]),\n",
    "                \"e\" : set([\"d\"])\n",
    "                }\n",
    "\n",
    "\n",
    "depth_first_traversal(test_graph, 'a')"
   ]
  },
  {
   "cell_type": "code",
   "execution_count": null,
   "metadata": {},
   "outputs": [],
   "source": []
  }
 ],
 "metadata": {
  "kernelspec": {
   "display_name": "Python 3",
   "language": "python",
   "name": "python3"
  },
  "language_info": {
   "codemirror_mode": {
    "name": "ipython",
    "version": 3
   },
   "file_extension": ".py",
   "mimetype": "text/x-python",
   "name": "python",
   "nbconvert_exporter": "python",
   "pygments_lexer": "ipython3",
   "version": "3.7.4"
  }
 },
 "nbformat": 4,
 "nbformat_minor": 2
}
