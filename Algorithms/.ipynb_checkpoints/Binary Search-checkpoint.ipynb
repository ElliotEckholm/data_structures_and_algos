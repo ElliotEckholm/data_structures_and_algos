{
 "cells": [
  {
   "cell_type": "markdown",
   "metadata": {},
   "source": [
    "# Creating Binary Search "
   ]
  },
  {
   "cell_type": "code",
   "execution_count": 28,
   "metadata": {},
   "outputs": [],
   "source": [
    "def binary_search(A,value):\n",
    "    N = len(A)\n",
    "    \n",
    "    upper_index = N - 1\n",
    "    lower_index = 0\n",
    "\n",
    "    \n",
    "    while lower_index <= upper_index:\n",
    "       \n",
    "        middle_index = (lower_index + upper_index)// 2\n",
    "\n",
    "        if value == A[middle_index]:\n",
    "            print(\"Found \",value, \" at index \",middle_index)\n",
    "            return True\n",
    "\n",
    "        if value > A[middle_index]:\n",
    "            lower_index = middle_index + 1\n",
    "        else:\n",
    "            upper_index = middle_index - 1\n",
    "\n",
    "    \n",
    "    if lower_index > upper_index:\n",
    "        return False"
   ]
  },
  {
   "cell_type": "code",
   "execution_count": 30,
   "metadata": {},
   "outputs": [
    {
     "name": "stdout",
     "output_type": "stream",
     "text": [
      "Found  7  at index  1\n"
     ]
    },
    {
     "data": {
      "text/plain": [
       "True"
      ]
     },
     "execution_count": 30,
     "metadata": {},
     "output_type": "execute_result"
    }
   ],
   "source": [
    "\n",
    "# Initialize the sorted list\n",
    "A = [2,7,19,34,53,72]\n",
    "\n",
    "binary_search(A,7)"
   ]
  },
  {
   "cell_type": "code",
   "execution_count": null,
   "metadata": {},
   "outputs": [],
   "source": []
  }
 ],
 "metadata": {
  "kernelspec": {
   "display_name": "Python 3",
   "language": "python",
   "name": "python3"
  },
  "language_info": {
   "codemirror_mode": {
    "name": "ipython",
    "version": 3
   },
   "file_extension": ".py",
   "mimetype": "text/x-python",
   "name": "python",
   "nbconvert_exporter": "python",
   "pygments_lexer": "ipython3",
   "version": "3.7.4"
  }
 },
 "nbformat": 4,
 "nbformat_minor": 2
}
