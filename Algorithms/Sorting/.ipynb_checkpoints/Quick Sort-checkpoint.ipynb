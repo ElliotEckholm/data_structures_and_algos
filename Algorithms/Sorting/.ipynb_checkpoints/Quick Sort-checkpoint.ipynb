{
 "cells": [
  {
   "cell_type": "code",
   "execution_count": 6,
   "metadata": {},
   "outputs": [],
   "source": [
    "def quick_sort(A,low_index,high_index):\n",
    "    if low_index < high_index:\n",
    "        \n",
    "        partition_index = partition(A, low_index, high_index)\n",
    "            \n",
    "        quickSort(A, low_index, partition_index - 1)  # Before partition_index\n",
    "        quickSort(A, partition_index + 1, high_index) # After partition_index\n",
    "        \n",
    "        \n",
    "def partition(A, low_index, high_index):\n",
    "    pivot = A[high_index]\n",
    "    \n",
    "    small_index = low_index - 1\n",
    "    \n",
    "    for index in range(low_index,high_index-1):\n",
    "        \n",
    "        #If current element is smaller than the pivot, then swap small index and current index \n",
    "        if A[index] < pivot:\n",
    "            index += 1\n",
    "            A[small_index],A[index] = A[index],A[small_index]\n",
    "    \n",
    "    A[small_index + 1],A[high_index] = A[high_index],A[small_index + 1]\n",
    "    \n",
    "    return (small_index + 1)\n",
    "        \n",
    "    "
   ]
  },
  {
   "cell_type": "code",
   "execution_count": 7,
   "metadata": {},
   "outputs": [
    {
     "name": "stdout",
     "output_type": "stream",
     "text": [
      "[1, 1, 7, 8, 9, 10, 5]\n"
     ]
    }
   ],
   "source": [
    "A = [10, 1, 7, 8, 9, 1, 5] \n",
    "N = len(A)\n",
    "quickSort(A,0,N-1) \n",
    "\n",
    "print(arr)"
   ]
  },
  {
   "cell_type": "code",
   "execution_count": 1,
   "metadata": {},
   "outputs": [],
   "source": [
    "# This function takes last element as pivot, places \n",
    "# the pivot element at its correct position in sorted \n",
    "# array, and places all smaller (smaller than pivot) \n",
    "# to left of pivot and all greater elements to right \n",
    "# of pivot \n",
    "def partition(arr,low,high): \n",
    "    i = ( low-1 )         # index of smaller element \n",
    "    pivot = arr[high]     # pivot \n",
    "  \n",
    "    for j in range(low , high): \n",
    "  \n",
    "        # If current element is smaller than the pivot \n",
    "        if   arr[j] < pivot: \n",
    "          \n",
    "            # increment index of smaller element \n",
    "            i = i+1 \n",
    "            arr[i],arr[j] = arr[j],arr[i] \n",
    "  \n",
    "    arr[i+1],arr[high] = arr[high],arr[i+1] \n",
    "    return ( i+1 ) \n",
    "  \n",
    "# The main function that implements QuickSort \n",
    "# arr[] --> Array to be sorted, \n",
    "# low  --> Starting index, \n",
    "# high  --> Ending index \n",
    "  \n",
    "# Function to do Quick sort \n",
    "def quickSort(arr,low,high): \n",
    "    if low < high: \n",
    "  \n",
    "        # pi is partitioning index, arr[p] is now \n",
    "        # at right place \n",
    "        pi = partition(arr,low,high) \n",
    "  \n",
    "        # Separately sort elements before \n",
    "        # partition and after partition \n",
    "        quickSort(arr, low, pi-1) \n",
    "        quickSort(arr, pi+1, high) "
   ]
  },
  {
   "cell_type": "code",
   "execution_count": 4,
   "metadata": {},
   "outputs": [
    {
     "name": "stdout",
     "output_type": "stream",
     "text": [
      "[1, 1, 7, 8, 9, 10, 5]\n"
     ]
    }
   ],
   "source": [
    "arr = [10, 1, 7, 8, 9, 1, 5] \n",
    "\n",
    "quickSort(arr,0,n-1) \n",
    "\n",
    "print(arr)"
   ]
  },
  {
   "cell_type": "code",
   "execution_count": null,
   "metadata": {},
   "outputs": [],
   "source": []
  }
 ],
 "metadata": {
  "kernelspec": {
   "display_name": "Python 3",
   "language": "python",
   "name": "python3"
  },
  "language_info": {
   "codemirror_mode": {
    "name": "ipython",
    "version": 3
   },
   "file_extension": ".py",
   "mimetype": "text/x-python",
   "name": "python",
   "nbconvert_exporter": "python",
   "pygments_lexer": "ipython3",
   "version": "3.7.4"
  }
 },
 "nbformat": 4,
 "nbformat_minor": 2
}
