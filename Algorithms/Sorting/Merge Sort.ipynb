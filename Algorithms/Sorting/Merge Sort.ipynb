{
 "cells": [
  {
   "cell_type": "code",
   "execution_count": 53,
   "metadata": {},
   "outputs": [],
   "source": [
    "def merge_sort(A):\n",
    "    N = len(A)\n",
    "    if N <= 1:\n",
    "        return A\n",
    "    \n",
    "    # Grab middle and split array into left and right halves\n",
    "    middle_point = N // 2\n",
    "    left_list = A[:middle_point]\n",
    "    right_list = A[middle_point:]\n",
    "   \n",
    "    left_list = merge_sort(left_list)\n",
    "    right_list = merge_sort(right_list)\n",
    "    \n",
    "    sorted_full = list(merge(left_list,right_list))\n",
    "    \n",
    "    return sorted_full\n",
    "    \n",
    "    \n",
    "def merge(left_half,right_half):\n",
    "    sorted_combined_halves = []\n",
    "    while len(left_half) != 0 and len(right_half) != 0:\n",
    "        \n",
    "        if left_half[0] < right_half[0]:\n",
    "            sorted_combined_halves.append(left_half[0])\n",
    "            left_half.remove(left_half[0])\n",
    "\n",
    "        else:\n",
    "            sorted_combined_halves.append(right_half[0])\n",
    "            right_half.remove(right_half[0])\n",
    "    \n",
    "   \n",
    "    if len(left_half) == 0:\n",
    "        sorted_combined_halves = sorted_combined_halves +  right_half\n",
    "    else:\n",
    "         sorted_combined_halves = sorted_combined_halves +  left_half\n",
    "            \n",
    "   \n",
    "    return sorted_combined_halves\n",
    "    "
   ]
  },
  {
   "cell_type": "code",
   "execution_count": 54,
   "metadata": {},
   "outputs": [
    {
     "name": "stdout",
     "output_type": "stream",
     "text": [
      "[1, 3, 3, 4, 10, 67, 81, 100]\n"
     ]
    }
   ],
   "source": [
    "A = [3,1,67,81,4,100,10,3]\n",
    "result = merge_sort(A)\n",
    "print(result)"
   ]
  },
  {
   "cell_type": "code",
   "execution_count": 19,
   "metadata": {},
   "outputs": [],
   "source": []
  },
  {
   "cell_type": "code",
   "execution_count": null,
   "metadata": {},
   "outputs": [],
   "source": []
  },
  {
   "cell_type": "code",
   "execution_count": null,
   "metadata": {},
   "outputs": [],
   "source": []
  }
 ],
 "metadata": {
  "kernelspec": {
   "display_name": "Python 3",
   "language": "python",
   "name": "python3"
  },
  "language_info": {
   "codemirror_mode": {
    "name": "ipython",
    "version": 3
   },
   "file_extension": ".py",
   "mimetype": "text/x-python",
   "name": "python",
   "nbconvert_exporter": "python",
   "pygments_lexer": "ipython3",
   "version": "3.7.4"
  }
 },
 "nbformat": 4,
 "nbformat_minor": 2
}
